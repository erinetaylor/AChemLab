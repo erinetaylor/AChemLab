{
  "nbformat": 4,
  "nbformat_minor": 0,
  "metadata": {
    "colab": {
      "provenance": [],
      "authorship_tag": "ABX9TyNqo2wmUGsjgIbIffljqe/E"
    },
    "kernelspec": {
      "name": "python3",
      "display_name": "Python 3"
    },
    "language_info": {
      "name": "python"
    }
  },
  "cells": [
    {
      "cell_type": "markdown",
      "source": [
        "# 📈 Calibration Curve Python Code\n",
        "\n",
        "Using this **COLAB notebook**, you will be able to generate your own calibration curve.\n",
        "\n",
        "\n",
        "\n",
        "## Let's get started! 😀"
      ],
      "metadata": {
        "id": "_Q9AaHAXXOhu"
      }
    },
    {
      "cell_type": "markdown",
      "source": [
        "Let's start out by uploading our data into this notebook.\n",
        "\n",
        "<font color='olivedrab'>Start by executing the code below by clicking on the cell and **holding \"Shift+Enter\"** at the same time to load all of the packages that will be required to make your calibration curve.\n",
        "\n",
        "Alternatively, you can also select the play button.</font>\n"
      ],
      "metadata": {
        "id": "x5hSNZhkCx8V"
      }
    },
    {
      "cell_type": "code",
      "execution_count": null,
      "metadata": {
        "id": "OypA8lbnOq0l"
      },
      "outputs": [],
      "source": [
        "#The following code will install the modules needed to run the rest of the code.\n",
        "import pandas as pd\n",
        "import io\n",
        "import scipy as sc\n",
        "from scipy import stats\n",
        "import numpy as np\n",
        "import matplotlib.pyplot as plt\n",
        "import plotly.express as px"
      ]
    },
    {
      "cell_type": "markdown",
      "source": [
        "Enter your calibration curve data that is to be included in the trendline in the brackets of `x_trendline_data`, and `y_trendline_data`.\n",
        "\n",
        "If there are any standards that are not to be included in the trendline, enter this data in the brackets of `x_non_trendline_data`, and `y_non_trendline_data`."
      ],
      "metadata": {
        "id": "1F1r9Gt4S1mc"
      }
    },
    {
      "cell_type": "code",
      "source": [
        "x_trendline_data=[]\n",
        "y_trendline_data=[]\n",
        "x_non_trendline_data=[]\n",
        "y_non_trendline_data=[]"
      ],
      "metadata": {
        "id": "hzsY2ZUDgIEW"
      },
      "execution_count": null,
      "outputs": []
    },
    {
      "cell_type": "markdown",
      "source": [
        "<font color='olivedrab'>Run the next cell by **holding \"Shift + Enter\"** and you should see your standard data with a trendline. The equation and R$^2$ value should appear in the plot as well.\n",
        "\n",
        "<font color='olivedrab'>Be sure to add a descriptive plot title, x-axis label, and y-axis label with units. You are also welcome to change the color of the markers and trendline either from the dropdown provided or pick from a list of colors found [here](https://matplotlib.org/stable/gallery/color/named_colors.html).\n",
        "\n",
        "<font color='tomato'>Be sure to set appropriate values for `x_min`, `x_max`, `y_min`, and `y_max`.\n",
        "\n"
      ],
      "metadata": {
        "id": "L_O5ZSV3QmoK"
      }
    },
    {
      "cell_type": "code",
      "source": [
        "trendline_data = {'x-values': x_trendline_data, 'y-values': y_trendline_data}\n",
        "df = pd.DataFrame(trendline_data)\n",
        "coefficients = np.polyfit(x_trendline_data, y_trendline_data, 1)\n",
        "trendline = np.poly1d(coefficients) #this calculates the linear trendline equation\n",
        "residuals = y_trendline_data - trendline(x_trendline_data) #this calculates the residuals between the trendline and your data points\n",
        "total_sum_of_squares = np.sum((y_trendline_data - np.mean(y_trendline_data)) ** 2) #this calculates the sum of squares\n",
        "r_squared = 1 - (np.sum(residuals ** 2) / total_sum_of_squares) #this calculates the R^2 value\n",
        "\n",
        "x_min=0 # @param {type:\"number\"} #this defines the minimum value that will be plotted on the x-axis of the scatter plot\n",
        "x_max=10 # @param {type:\"number\"} #this defines the maximum value that will be plotted on the x-axis of the scatter plot\n",
        "y_min=0  # @param {type:\"number\"}#this defines the minimum value that will be plotted on the y-axis of the scatter plot\n",
        "y_max=10 # @param {type:\"number\"} #this defines the maximum value that will be plotted on the y-axis of the scatter plot\n",
        "marker_color= 'teal' # @param [\"gray\", \"maroon\", \"tomato\", \"coral\", \"chocolate\", \"darkorange\", \"gold\", \"olive\", \"yellowgreen\", \"forestgreen\", \"teal\", \"darkcyan\", \"steelblue\", \"navy\", \"rebeccapurple\", \"purple\", \"hotpink\", \"crimson\"] {allow-input: true}\n",
        "\n",
        "length_non_trendline_data=len(x_non_trendline_data)\n",
        "trendline_ext=list(range(round(min(x_trendline_data)-abs(min(x_trendline_data)*0.7)),round(max(x_trendline_data)+abs(max(x_trendline_data)*0.7))))\n",
        "trendline_color= 'black' # @param [\"black\", \"dimgray\", \"gray\"] {allow-input: true}\n",
        "trendline_style = 'solid' # @param [\"solid\", \"dashed\", \"dotted\"] {allow-input: true}\n",
        "graph_title= 'ADD TITLE HERE' # @param {type:\"string\"}\n",
        "x_axis_label= 'ADD X-AXIS LABEL HERE' # @param {type:\"string\"}\n",
        "y_axis_label= 'ADD Y-AXIS LABEL HERE' # @param {type:\"string\"}\n",
        "equation_text = f'\\n y = {coefficients[0]:.4f}x + {coefficients[1]:.4f}, R$^2$ = {r_squared:.4f}' #this defines the text that will print for the equation of the trendline and the value for R^2\n",
        "labeled_graph_title= graph_title + equation_text\n",
        "if length_non_trendline_data>0:\n",
        "  plt.figure(figsize=(10,6)) #defines the size of the figure\n",
        "  plt.plot(trendline_ext, trendline(trendline_ext), linestyle=trendline_style, color=trendline_color, label='Trendline') #this will add the trendline to the figure\n",
        "  plt.scatter(x_trendline_data,y_trendline_data, s=75, color = marker_color ,edgecolors='black') #this will plot a scatter plot with the volume of NaOH delivered on the x-axis and the pH on the y-axis\n",
        "  plt.scatter(x_non_trendline_data,y_non_trendline_data,s=75, color = 'grey' ,edgecolors='black')\n",
        "  plt.grid(False) #this removes the grid lines from the background of the plot\n",
        "  plt.title(labeled_graph_title) #this add the title to the plot\n",
        "  plt.xlabel(x_axis_label) #this adds the x-axis label to the plot\n",
        "  plt.ylabel(y_axis_label) #this adds the y-axis label to the plot\n",
        "  plt.xlim(x_min,x_max); #this sets the x-range on the plot\n",
        "  plt.ylim(y_min,y_max); #this sets the y-range on the plot\n",
        "else:\n",
        "  plt.figure(figsize=(10,6)) #defines the size of the figure\n",
        "  plt.plot(trendline_ext, trendline(trendline_ext), linestyle=trendline_style, color=trendline_color, label='Trendline') #this will add the trendline to the figure\n",
        "  plt.scatter(x_trendline_data,y_trendline_data, s=75, color = marker_color ,edgecolors='black') #this will plot a scatter plot with the volume of NaOH delivered on the x-axis and the pH on the y-axis\n",
        "  plt.grid(False) #this removes the grid lines from the background of the plot\n",
        "  plt.title(labeled_graph_title) #this add the title to the plot\n",
        "  plt.xlabel(x_axis_label) #this adds the x-axis label to the plot\n",
        "  plt.ylabel(y_axis_label) #this adds the y-axis label to the plot\n",
        "  plt.xlim(x_min,x_max); #this sets the x-range on the plot\n",
        "  plt.ylim(y_min,y_max); #this sets the y-range on the plot"
      ],
      "metadata": {
        "id": "04BRCxuMC5lR",
        "cellView": "form"
      },
      "execution_count": null,
      "outputs": []
    }
  ]
}