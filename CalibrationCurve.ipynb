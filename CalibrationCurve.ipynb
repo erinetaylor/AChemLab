{
  "nbformat": 4,
  "nbformat_minor": 0,
  "metadata": {
    "colab": {
      "provenance": [],
      "authorship_tag": "ABX9TyMio+GQkWTv2perU5Pbv9wy"
    },
    "kernelspec": {
      "name": "python3",
      "display_name": "Python 3"
    },
    "language_info": {
      "name": "python"
    }
  },
  "cells": [
    {
      "cell_type": "markdown",
      "source": [
        "# 📈 Calibration Curve Python Code\n",
        "\n",
        "Using this **COLAB notebook**, you will be able to generate your own calibration curve.\n",
        "\n",
        "To start off, enter your data into an Excel sheet so that your x-values are in the first column and your y-values are in the next column. Save this file as a csv (comma delimited) file.\n",
        "\n",
        "\n",
        "## Let's get started! 😀"
      ],
      "metadata": {
        "id": "_Q9AaHAXXOhu"
      }
    },
    {
      "cell_type": "markdown",
      "source": [
        "Let's start out by uploading our data into this notebook.\n",
        "\n",
        "<font color='olivedrab'>Start by executing the code below by clicking on the cell and **holding \"Shift+Enter\"** at the same time. Alternatively, you can also select the play button.</font>\n",
        "\n",
        "You should see a button appear with the text \"Choose Files\".\n",
        "\n",
        "<font color='olivedrab'>**Click on this button** and grab your data from a csv (comma delimited) you downloaded from Canvas.</font>"
      ],
      "metadata": {
        "id": "x5hSNZhkCx8V"
      }
    },
    {
      "cell_type": "code",
      "execution_count": null,
      "metadata": {
        "id": "OypA8lbnOq0l"
      },
      "outputs": [],
      "source": [
        "#The following code will install the modules needed to run the rest of the code.\n",
        "import pandas as pd\n",
        "import io\n",
        "import scipy as sc\n",
        "from scipy import stats\n",
        "import numpy as np\n",
        "import matplotlib.pyplot as plt\n",
        "import plotly.express as px\n",
        "from google.colab import files\n",
        "uploaded = files.upload()"
      ]
    },
    {
      "cell_type": "markdown",
      "source": [
        "Now that the csv file has been uploaded, run the cell below this text which will name your file under the name \"data\".\n",
        "\n",
        "<font color='olivedrab'>In the cell below, **hold \"Shift + Enter\"** at the same time. This cell should print all of the data in this file.\n",
        "\n",
        "\n",
        "<font color='tomato'>Be sure to also **change the name of the file** being called upon as `File.csv` below.</font>"
      ],
      "metadata": {
        "id": "0a-NN8QPPmWV"
      }
    },
    {
      "cell_type": "code",
      "source": [
        "#This code will allow us to read the data file and show the data below.\n",
        "df = pd.read_csv(io.BytesIO(uploaded['Book1.csv']))\n",
        "print(df)\n",
        "data = pd.DataFrame(df, index=None) #rename the dataframe\n",
        "ndata = data.count(axis=0, numeric_only=False) #count the number of data points in each dataset (column)\n",
        "x=data.iloc[:, 0]\n",
        "y=data.iloc[:, 1]\n",
        "coefficients = np.polyfit(x, y, 1)\n",
        "trendline = np.poly1d(coefficients) #this calculates the linear trendline equation\n",
        "residuals = y - trendline(x) #this calculates the residuals between the trendline and your data points\n",
        "total_sum_of_squares = np.sum((y - np.mean(y)) ** 2) #this calculates the sum of squares\n",
        "r_squared = 1 - (np.sum(residuals ** 2) / total_sum_of_squares) #this calculates the R^2 value"
      ],
      "metadata": {
        "id": "v1_86AS3CpBl"
      },
      "execution_count": null,
      "outputs": []
    },
    {
      "cell_type": "markdown",
      "source": [
        "<font color='olivedrab'>Run the next cell by **holding \"Shift + Enter\"** and you should see your standard data with a trendline. The equation and R$^2$ value should appear in the plot as well.\n",
        "\n",
        "<font color='olivedrab'>Be sure to add a descriptive plot title, x-axis label, and y-axis label with units. You are also welcome to change the color of the markers and trendline either from the dropdown provided or pick from a list of colors found [here](https://matplotlib.org/stable/gallery/color/named_colors.html).\n",
        "\n",
        "<font color='tomato'>Be sure to set appropriate values for `x_min`, `x_max`, `y_min`, and `y_max`.\n",
        "\n"
      ],
      "metadata": {
        "id": "L_O5ZSV3QmoK"
      }
    },
    {
      "cell_type": "code",
      "source": [
        "x_min=0 # @param {type:\"number\"} #this defines the minimum value that will be plotted on the x-axis of the scatter plot\n",
        "x_max=60 # @param {type:\"number\"} #this defines the maximum value that will be plotted on the x-axis of the scatter plot\n",
        "y_min=0  # @param {type:\"number\"}#this defines the minimum value that will be plotted on the y-axis of the scatter plot\n",
        "y_max=130 # @param {type:\"number\"} #this defines the maximum value that will be plotted on the y-axis of the scatter plot\n",
        "\n",
        "marker_color= 'teal' # @param [\"gray\", \"maroon\", \"tomato\", \"coral\", \"chocolate\", \"darkorange\", \"gold\", \"olive\", \"yellowgreen\", \"forestgreen\", \"teal\", \"darkcyan\", \"steelblue\", \"navy\", \"rebeccapurple\", \"purple\", \"hotpink\", \"crimson\"] {allow-input: true}\n",
        "trendline_color= 'black' # @param [\"black\", \"dimgray\", \"gray\"] {allow-input: true}\n",
        "graph_title= 'ADD TITLE HERE' # @param {type:\"string\"}\n",
        "x_axis_label= 'ADD TITLE HERE' # @param {type:\"string\"}\n",
        "y_axis_label= 'ADD TITLE HERE' # @param {type:\"string\"}\n",
        "trendline_style = 'solid' # @param [\"solid\", \"dashed\", \"dotted\"] {allow-input: true}\n",
        "equation_text = f'\\n y = {coefficients[0]:.4f}x + {coefficients[1]:.4f}, R$^2$ = {r_squared:.4f}' #this defines the text that will print for the equation of the trendline and the value for R^2\n",
        "labeled_graph_title= graph_title + equation_text\n",
        "plt.figure(figsize=(10,6)) #defines the size of the figure\n",
        "plt.scatter(x,y, s=75, color = marker_color ,edgecolors='black') #this will plot a scatter plot with the volume of NaOH delivered on the x-axis and the pH on the y-axis\n",
        "plt.plot(x, trendline(x), linestyle=trendline_style, color=trendline_color, label='Trendline') #this will add the trendline to the figure\n",
        "plt.grid(False) #this removes the grid lines from the background of the plot\n",
        "plt.title(labeled_graph_title) #this add the title to the plot\n",
        "plt.xlabel(x_axis_label) #this adds the x-axis label to the plot\n",
        "plt.ylabel(y_axis_label) #this adds the y-axis label to the plot\n",
        "plt.xlim(x_min,x_max); #this sets the x-range on the plot\n",
        "plt.ylim(y_min,y_max); #this sets the y-range on the plot"
      ],
      "metadata": {
        "id": "04BRCxuMC5lR",
        "cellView": "form"
      },
      "execution_count": null,
      "outputs": []
    }
  ]
}