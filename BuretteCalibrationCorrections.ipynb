{
  "nbformat": 4,
  "nbformat_minor": 0,
  "metadata": {
    "colab": {
      "provenance": [],
      "authorship_tag": "ABX9TyO7uZOTMKgGoTR0igG9xKWV"
    },
    "kernelspec": {
      "name": "python3",
      "display_name": "Python 3"
    },
    "language_info": {
      "name": "python"
    }
  },
  "cells": [
    {
      "cell_type": "markdown",
      "source": [
        "# 🧪 Burette Calibration Corrections\n",
        "\n",
        "This is the second Colab Notebook for this lab, which has been made so that you don't have to run through the code in the \"WaterWorks\" Notebook each time you want to find the volume delivered from your burette.\n",
        "\n",
        "<font color='red'> Please, save this notebook on your Google Drive, so that you can reference it throughout the semester.\n",
        "\n",
        "## Let's get started! 😀"
      ],
      "metadata": {
        "id": "nWLIHMUgsKSo"
      }
    },
    {
      "cell_type": "markdown",
      "source": [
        "Run the following cell to download all of the important programs needed for this calculation."
      ],
      "metadata": {
        "id": "cmz9SjVLuh1L"
      }
    },
    {
      "cell_type": "code",
      "source": [
        "import pandas as pd\n",
        "import io\n",
        "import scipy as sc\n",
        "from scipy import stats\n",
        "import numpy as np\n",
        "import matplotlib.pyplot as plt"
      ],
      "metadata": {
        "id": "qqKOwWAcuhS0"
      },
      "execution_count": null,
      "outputs": []
    },
    {
      "cell_type": "markdown",
      "source": [
        "⬇️ Once you have all of your \"corrections\" from the WaterWorks.ipynb, paste these values in the code space below, and run the cell."
      ],
      "metadata": {
        "id": "yrlzv72itDXm"
      }
    },
    {
      "cell_type": "code",
      "execution_count": null,
      "metadata": {
        "id": "gIv8aedgsFdl"
      },
      "outputs": [],
      "source": []
    },
    {
      "cell_type": "markdown",
      "source": [
        "⬆️Paste your corrections from the WaterWorks.ipynb in this code cell above this text."
      ],
      "metadata": {
        "id": "EPa_a5Vuszkf"
      }
    },
    {
      "cell_type": "markdown",
      "source": [
        "In the cell below, change the inital and final burette reading values to those of your actual measurement before running the final section of code."
      ],
      "metadata": {
        "id": "j-5mFcVA88qV"
      }
    },
    {
      "cell_type": "code",
      "source": [
        "initial_burette_reading=0.00\n",
        "final_burette_reading=10.25"
      ],
      "metadata": {
        "id": "rx5_dpIEs4lx"
      },
      "execution_count": null,
      "outputs": []
    },
    {
      "cell_type": "markdown",
      "source": [
        "The following code will calculate your corrected volume for each burette reading."
      ],
      "metadata": {
        "id": "-xuIWov0tPcX"
      }
    },
    {
      "cell_type": "code",
      "source": [
        "expected_volume=round(final_burette_reading-initial_burette_reading,2)\n",
        "burette_linspace=np.arange(round(initial_burette_reading,2), round(final_burette_reading+0.01,2), 0.01)\n",
        "zero_ten_volumes=[]\n",
        "ten_twenty_volumes=[]\n",
        "twenty_thirty_volumes=[]\n",
        "thirty_fourty_volumes=[]\n",
        "fourty_fifty_volumes=[]\n",
        "for i in burette_linspace:\n",
        "  if i < 10.01:\n",
        "    zero_ten_volumes.append(i)\n",
        "  elif i < 20.01:\n",
        "    ten_twenty_volumes.append(i)\n",
        "  elif i < 30.01:\n",
        "    twenty_thirty_volumes.append(i)\n",
        "  elif i < 40.01:\n",
        "    thirty_fourty_volumes.append(i)\n",
        "  elif i < 50.00:\n",
        "    fourty_fifty_volumes.append(i)\n",
        "\n",
        "true_volume=((max(zero_ten_volumes, default=0)-min(zero_ten_volumes, default=0))+(max(zero_ten_volumes, default=0)-min(zero_ten_volumes, default=0))*zero_ten_mL_correction/10)+((max(ten_twenty_volumes, default=0)-min(ten_twenty_volumes, default=0))+(max(ten_twenty_volumes, default=0)-min(ten_twenty_volumes, default=0))*ten_twenty_mL_correction/10)+((max(twenty_thirty_volumes, default=0)-min(twenty_thirty_volumes, default=0))+(max(twenty_thirty_volumes, default=0)-min(twenty_thirty_volumes, default=0))*twenty_thirty_mL_correction/10)+((max(thirty_fourty_volumes, default=0)-min(thirty_fourty_volumes, default=0))+(max(thirty_fourty_volumes, default=0)-min(thirty_fourty_volumes, default=0))*thirty_fourty_mL_correction/10)+((max(fourty_fifty_volumes, default=0)-min(fourty_fifty_volumes, default=0))+(max(fourty_fifty_volumes, default=0)-min(fourty_fifty_volumes, default=0))*fourty_fifty_mL_correction/10)\n",
        "print(\"The actual volume delivered with an initial burette reading of {:3.2f} mL and a final burette reading of {:3.2f} mL is {:3.2f} mL.\".format(round(initial_burette_reading,2), round(final_burette_reading,2), round(true_volume,2)))\n",
        "print(\"As a comparison, the expected volume was {:3.2f} mL.\".format(expected_volume))"
      ],
      "metadata": {
        "id": "4bbbH9MKuTNS"
      },
      "execution_count": null,
      "outputs": []
    }
  ]
}
