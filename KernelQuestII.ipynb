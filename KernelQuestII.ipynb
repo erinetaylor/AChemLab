{
  "nbformat": 4,
  "nbformat_minor": 0,
  "metadata": {
    "colab": {
      "provenance": [],
      "authorship_tag": "ABX9TyMgwSfBDbmtzdFhe9Ba02SE"
    },
    "kernelspec": {
      "name": "python3",
      "display_name": "Python 3"
    },
    "language_info": {
      "name": "python"
    }
  },
  "cells": [
    {
      "cell_type": "markdown",
      "source": [
        "# 🍿 KernelQuest II: Statistical Analysis of Popcorn Kernels\n",
        "\n",
        "Using this **COLAB notebook**, we will upload the combined data from last week's lab, and use different statistical calculations to answer the questions provided in the Post Lab questions for Lab 2 - KernelQuest II: Statistical Analysis of Popcorn Kernels.\n",
        "\n",
        "\n",
        "## Let's get started! 😀"
      ],
      "metadata": {
        "id": "j5kyFAjZ11gv"
      }
    },
    {
      "cell_type": "markdown",
      "source": [
        "First things first.\n",
        "\n",
        "<font color='olivedrab'>**Download** the popcorn_data.csv file from Canvas to your computer.</font>"
      ],
      "metadata": {
        "id": "UC5960EX4-Ib"
      }
    },
    {
      "cell_type": "markdown",
      "source": [
        "# Part One"
      ],
      "metadata": {
        "id": "pr8rVDK27t4T"
      }
    },
    {
      "cell_type": "markdown",
      "source": [
        "Let's start out by uploading our data into this notebook.\n",
        "\n",
        "<font color='olivedrab'>Start by executing the code below by clicking on the cell and **holding \"Shift+Enter\"** at the same time, or by selecting the play button.</font>\n",
        "\n",
        "You should see a button appear with the text \"Choose Files\".\n",
        "\n",
        "<font color='olivedrab'>**Click on this button** and grab the data (popcorn_data.csv) you downloaded from Canvas.</font>"
      ],
      "metadata": {
        "id": "t_GpX_DKqXkP"
      }
    },
    {
      "cell_type": "code",
      "execution_count": null,
      "metadata": {
        "id": "E8lukig8ym6Q"
      },
      "outputs": [],
      "source": [
        "!pip install outlier_utils\n",
        "import pandas as pd\n",
        "import io\n",
        "import scipy as sc\n",
        "from scipy import stats\n",
        "import numpy as np\n",
        "from outliers import smirnov_grubbs as grubbs\n",
        "import matplotlib.pyplot as plt\n",
        "import plotly.express as px\n",
        "from google.colab import files\n",
        "uploaded = files.upload()"
      ]
    },
    {
      "cell_type": "markdown",
      "source": [
        "Now that the csv file has been uploaded, run the cell below this text which will name your file under the name \"data\".\n",
        "\n",
        "<font color='olivedrab'>In the cell below, **hold \"Shift + Enter\"** at the same time. Alternatively, you can also select the play button. This cell should print all of the data in this file.\n",
        "\n",
        "Here we will be able to see the column header names which will be important in the next step\n",
        "\n",
        "<font color='tomato'>If you have renamed this file, be sure to also **change the name of the file** being called upon as `popcorn_data.csv` below.</font>"
      ],
      "metadata": {
        "id": "XETFJgo4Dx_h"
      }
    },
    {
      "cell_type": "code",
      "source": [
        "#The following code will install the modules needed to run the rest of the code.\n",
        "\n",
        "\n",
        "#This code will allow us to read the data file and show the data below.\n",
        "df = pd.read_csv(io.BytesIO(uploaded['popcorn_data.csv']))\n",
        "print(df)\n",
        "data = pd.DataFrame(df, index=None) #rename the dataframe\n",
        "ndata = data.count(axis=0, numeric_only=False) #count the number of data points in each dataset (column)"
      ],
      "metadata": {
        "id": "b7Fk_we5Co1c"
      },
      "execution_count": null,
      "outputs": []
    },
    {
      "cell_type": "markdown",
      "source": [
        "Now that our large dataset is imported, let's perform some statistical analysis by first determining the average and standard deviation of the mass of an unpopped and popped kernel for both Orville Redenbacher and Siganture Select.\n",
        "\n",
        "Notice that the column name for the unpopped Orville Redenbacher data is \"OR Unpopped Mass\".\n",
        "\n",
        "<font color='tomato'>If your column header is different, please **update the column name** in the two locations found below. </font>\n",
        "\n",
        "<font color='orange'>For your reference, the equations for **average** and **standard deviation** are shown below.\n",
        "$$\\text{Average}=\\bar{x}=\\frac{\\sum_{i=1}^{n} x_i}{n}$$\n",
        "<font color='orange'>\n",
        "$$\\text{Standard Deviation}=s=\\sqrt{\\frac{\\sum_{i=1}^{n} (x_i-\\bar{x})^2}{n-1}}$$"
      ],
      "metadata": {
        "id": "Qq99zG7vF5pI"
      }
    },
    {
      "cell_type": "markdown",
      "source": [
        "<font color='olivedrab'>In the cell below, **hold \"Shift + Enter\"** at the same time. This cell should print some text, that will tell us about the mean and standard deviation of the different samples."
      ],
      "metadata": {
        "id": "21fP4_P0RL0_"
      }
    },
    {
      "cell_type": "code",
      "source": [
        "OR_Unpopped=data[\"OR Unpopped Mass\"]\n",
        "OR_Unpopped_AverageMass=OR_Unpopped.mean() #this will calculate the average Orville Redenbacher unpopped kernel mass\n",
        "OR_Unpopped_StandardDeviation=OR_Unpopped.std() #this will calculate the standard deviation of Orville Redenbacher unpopped kernel mass\n",
        "print(\"The average mass of an unpopped kernel of Orville Redenbacher popcorn is {:3.4f} g.\".format(OR_Unpopped_AverageMass))\n",
        "print(\"The standard deviation of the mass of an Orville Redenbacher unpopped kernel of popcorn is {:3.4f} g.\".format(OR_Unpopped_StandardDeviation))"
      ],
      "metadata": {
        "id": "erB3cH1iF5FQ"
      },
      "execution_count": null,
      "outputs": []
    },
    {
      "cell_type": "code",
      "source": [
        "OR_Popped=data[\"OR Popped Mass\"]\n",
        "OR_Popped_AverageMass=OR_Popped.mean() #this will calculate the average Orville Redenbacher popped kernel mass\n",
        "OR_Popped_StandardDeviation=OR_Popped.std() #this will calculate the standard deviation of Orville Redenbacher popped kernel mass\n",
        "print(\"The average mass of a popped kernel of Orville Redenbacher popcorn is {:3.4f} g.\".format(OR_Popped_AverageMass))\n",
        "print(\"The standard deviation of the mass of an Orville Redenbacher popped kernel of popcorn is {:3.4f} g.\".format(OR_Popped_StandardDeviation))"
      ],
      "metadata": {
        "id": "ZR9CPqcXHPW_"
      },
      "execution_count": null,
      "outputs": []
    },
    {
      "cell_type": "code",
      "source": [
        "SS_Unpopped=data[\"SS Unpopped Mass\"]\n",
        "SS_Unpopped_AverageMass=SS_Unpopped.mean() #this will calculate the average Signature Select unpopped kernel mass\n",
        "SS_Unpopped_StandardDeviation=SS_Unpopped.std() #this will calculate the standard deviation of Signature Select unpopped kernel mass\n",
        "print(\"The average mass of an unpopped kernel of Signature Select popcorn is {:3.4f} g.\".format(SS_Unpopped_AverageMass))\n",
        "print(\"The standard deviation of the mass of a Signature Select unpopped kernel of popcorn is {:3.4f} g.\".format(SS_Unpopped_StandardDeviation))"
      ],
      "metadata": {
        "id": "1XEsQ8eFmXip"
      },
      "execution_count": null,
      "outputs": []
    },
    {
      "cell_type": "code",
      "source": [
        "SS_Popped=data[\"SS Popped Mass\"]\n",
        "SS_Popped_AverageMass=SS_Popped.mean() #this will calculate the average Signature Select popped kernel mass\n",
        "SS_Popped_StandardDeviation=SS_Popped.std() #this will calculate the standard deviation of Signature Select popped kernel mass\n",
        "print(\"The average mass of a popped kernel of Signature Select popcorn is {:3.4f} g.\".format(SS_Popped_AverageMass))\n",
        "print(\"The standard deviation of the mass of a Signature Select popped kernel of popcorn is {:3.4f} g.\".format(SS_Popped_StandardDeviation))"
      ],
      "metadata": {
        "id": "ZzlJKiy9mgv6"
      },
      "execution_count": null,
      "outputs": []
    },
    {
      "cell_type": "markdown",
      "source": [
        "Now let's determine the mass of water lost during popping by **assuming all of the mass lost during popping was due to steam escaping the kernel**.\n",
        "<font color='orange'>$$\\text{water mass=unpopped mass - popped mass}$$\n",
        "\n",
        "<font color='olivedrab'>Once again, in the cell below, **hold \"Shift+Enter\"** at the same time. This cell should print some text, that will tell us about the mean and standard deviation of the water lost for both kernel brands."
      ],
      "metadata": {
        "id": "Qz4Gbt-lsu9S"
      }
    },
    {
      "cell_type": "code",
      "source": [
        "OR_WaterLost=OR_Unpopped-OR_Popped #this calculates the mass of water lost during popping for Orville Redenbacher kernels\n",
        "OR_WaterLost_AverageMass=OR_WaterLost.mean() #this will calculate the average water lost for Orville Redenbacher kernels\n",
        "OR_WaterLost_StandardDeviation=OR_WaterLost.std() #this will calculate the standard deviation for the water lost for Orville Redenbacher kernels\n",
        "OR_Relative_WaterLost=OR_WaterLost/OR_Unpopped #this calculates the relative mass of water lost during popping for Orville Redenbacher kernels by dividing the mass of water lost by the mass of the unpopped kernel\n",
        "OR_Relative_WaterLost_AverageMass=OR_Relative_WaterLost.mean() #this will calculate the average relative water lost for Orville Redenbacher kernels\n",
        "OR_Relative_WaterLost_StandardDeviation=OR_Relative_WaterLost.std() #this will calculate the standard deviation for the relative water lost for Orville Redenbacher kernels\n",
        "print(\"The average mass of water lost during popping for Orville Redenbacher popcorn is {:3.4f} grams of water.\".format(OR_WaterLost_AverageMass))\n",
        "print(\"The standard deviation of water lost during popping for Orville Redenbacher popcorn is {:3.4f} grams of water.\".format(OR_WaterLost_StandardDeviation))\n",
        "print(\"The relative average mass of water lost during popping for Orville Redenbacher popcorn is {:3.4f} grams of water per gram of unpopped kernel.\".format(OR_Relative_WaterLost_AverageMass))\n",
        "print(\"The relative standard deviation of water lost during popping for Orville Redenbacher popcorn is {:3.4f} grams of water per gram of unpopped kernel.\".format(OR_Relative_WaterLost_StandardDeviation))"
      ],
      "metadata": {
        "id": "KGy796Wos3PP"
      },
      "execution_count": null,
      "outputs": []
    },
    {
      "cell_type": "code",
      "source": [
        "SS_WaterLost=SS_Unpopped-SS_Popped #this calculates the mass of water lost during popping for Signature Select kernels\n",
        "SS_WaterLost_AverageMass=SS_WaterLost.mean() #this will calculate the average water lost for Signature Select kernels\n",
        "SS_WaterLost_StandardDeviation=SS_WaterLost.std() #this will calculate the standard deviation for the water lost for Signature Select kernels\n",
        "SS_Relative_WaterLost=SS_WaterLost/SS_Unpopped #this calculates the relative mass of water lost during popping for Signature Select kernels by dividing the mass of water lost by the mass of the unpopped kernel\n",
        "SS_Relative_WaterLost_AverageMass=SS_Relative_WaterLost.mean() #this will calculate the average relative water lost for Signature Select kernels\n",
        "SS_Relative_WaterLost_StandardDeviation=SS_Relative_WaterLost.std() #this will calculate the standard deviation for the relative water lost for Signature Select kernels\n",
        "print(\"The average mass of water lost during popping for Signature Select popcorn is {:3.4f} grams of water.\".format(SS_WaterLost_AverageMass))\n",
        "print(\"The standard deviation of water lost during popping for Signature Select popcorn is {:3.4f} grams of water.\".format(SS_WaterLost_StandardDeviation))\n",
        "print(\"The relative average mass of water lost during popping for Signature Select popcorn is {:3.4f} grams of water per gram of unpopped kernel.\".format(SS_Relative_WaterLost_AverageMass))\n",
        "print(\"The relative standard deviation of water lost during popping for Signature Select popcorn is {:3.4f} grams of water per gram of unpopped kernel.\".format(SS_Relative_WaterLost_StandardDeviation))"
      ],
      "metadata": {
        "id": "BRqXqQI_mo58"
      },
      "execution_count": null,
      "outputs": []
    },
    {
      "cell_type": "markdown",
      "source": [
        "Now let's determine the confidence intervals for the unpopped, popped, and water lost for Orville Redenbacher and Signature Select popcorn kernels.\n",
        "\n",
        "<font color='orange'> A confidence interval, in statistics, refers to the probability that a population parameter will fall between a set of values for a certain proportion of times. Using the range generated by the confidence interval it can be inferred that there is a 95\\% probability that the true value falls within that range.\n",
        "\n",
        "<font color='orange'>The confidence interval is defined as:\n",
        "$$\\text{Confidence Interval}=\\bar{x} \\pm \\frac{ts}{\\sqrt{n}}$$\n",
        "\n",
        "<font color='orange'> Where $\\bar{x}$ is the population mean, $t$ is the t-value for the specified confidence interval level, $s$ is the sample standard deviation, and $n$ is the number of samples."
      ],
      "metadata": {
        "id": "a2T9K181s22h"
      }
    },
    {
      "cell_type": "markdown",
      "source": [
        "Below you will see `confidence_level:`. Change this value to represent the decimal form of the confidence level you want to find the confidence interval for. Run the cell and all required information will print below.\n",
        "\n",
        "<font color='olivedrab'>Run the next cell by **holding \"Shift + Enter\"** and you should see several lines print that provide us with the confidence intervals we are looking for.\n",
        "\n",
        "<font color='tomato'>Please note that you will have to edit the confidence interval reported here to the correct number of significant figures in your Post-Lab worksheet. (*We can **only report one uncertain digit** unless that digit is \"1\", then we report two uncertain digits. Our mean can only be reported to the first uncertain digit.*)"
      ],
      "metadata": {
        "id": "0LijqqDPplnK"
      }
    },
    {
      "cell_type": "code",
      "source": [
        "# @title Confidence Intervals { display-mode:\"form\"}\n",
        "confidence_level= 0.80 # @param {type:\"number\"}\n",
        "a=confidence_level #confidence level\n",
        "n_OR=ndata.iloc[0]#number of data points\n",
        "print('As a whole,{:3.0f} total Orville Redenbacher kernels successfully popped.'.format(n_OR))\n",
        "t_crit=stats.t.isf((1-a)/2, n_OR-1) #t-crit value for a given confidence level and DOF\n",
        "print('The t-value for the{:3.0f}% confidence interval for all{:3.0f} Orville Redenbacher kernels is {:3.4f}'.format(a*100,n_OR,t_crit))\n",
        "OR_UnpoppedMass_CI=t_crit*OR_Unpopped_StandardDeviation/np.sqrt(n_OR)\n",
        "print('The{:3.0f}% confidence interval for the mass of an unpopped popcorn kernel from Orville Redenbacher is {:3.4f} ± {:3.4f} g.'.format(a*100,OR_Unpopped_AverageMass, OR_UnpoppedMass_CI))\n",
        "OR_PoppedMass_CI=t_crit*OR_Popped_StandardDeviation/np.sqrt(n_OR)\n",
        "print('The{:3.0f}% confidence interval for the mass of a popped popcorn kernel from Orville Redenbacher is {:3.4f} ± {:3.4f} g.'.format(a*100,OR_Popped_AverageMass, OR_PoppedMass_CI))\n",
        "OR_WaterLost_CI=t_crit*OR_WaterLost_StandardDeviation/np.sqrt(n_OR)\n",
        "print('The{:3.0f}% confidence interval for the mass of water lost from a Orville Redenbacher popcorn kernel is {:3.4f} ± {:3.4f} g.'.format(a*100,OR_WaterLost_AverageMass, OR_WaterLost_CI))\n",
        "OR_Relative_WaterLost_CI=t_crit*OR_Relative_WaterLost_StandardDeviation/np.sqrt(n_OR)\n",
        "print('The{:3.0f}% confidence interval for the relative mass of water lost from a Orville Redenbacher popcorn kernel is {:3.4f} ± {:3.4f} grams of water per gram of unpopped kernel.'.format(a*100,OR_Relative_WaterLost_AverageMass, OR_Relative_WaterLost_CI))\n",
        "n_SS=ndata.iloc[2] #number of data points\n",
        "print('')\n",
        "print('As a whole,{:3.0f} total Signature Select kernels successfully popped.'.format(n_SS))\n",
        "t_crit=stats.t.isf((1-a)/2, n_SS-1) #t-crit value for a given confidence level and DOF\n",
        "print('The t-value for the{:3.0f}% confidence interval for all{:3.0f} Signature Select kernels is {:3.4f}'.format(a*100,n_SS,t_crit))\n",
        "SS_UnpoppedMass_CI=t_crit*SS_Unpopped_StandardDeviation/np.sqrt(n_SS)\n",
        "print('The{:3.0f}% confidence interval for the mass of an unpopped popcorn kernel from Signature Select is {:3.4f} ± {:3.4f} g.'.format(a*100,SS_Unpopped_AverageMass, SS_UnpoppedMass_CI))\n",
        "SS_PoppedMass_CI=t_crit*SS_Popped_StandardDeviation/np.sqrt(n_SS)\n",
        "print('The{:3.0f}% confidence interval for the mass of a popped popcorn kernel from Signature Select is {:3.4f} ± {:3.4f} g.'.format(a*100,SS_Popped_AverageMass, SS_PoppedMass_CI))\n",
        "SS_WaterLost_CI=t_crit*SS_WaterLost_StandardDeviation/np.sqrt(n_SS)\n",
        "print('The{:3.0f}% confidence interval for the mass of water lost from a Signature Select popcorn kernel is {:3.4f} ± {:3.4f} g.'.format(a*100,SS_WaterLost_AverageMass, SS_WaterLost_CI))\n",
        "SS_Relative_WaterLost_CI=t_crit*SS_Relative_WaterLost_StandardDeviation/np.sqrt(n_SS)\n",
        "print('The{:3.0f}% confidence interval for the relative mass of water lost from a Signature Select popcorn kernel is {:3.4f} ± {:3.4f} grams of water per gram of unpopped kernel.'.format(a*100,SS_Relative_WaterLost_AverageMass, SS_Relative_WaterLost_CI))"
      ],
      "metadata": {
        "id": "NWHL8mpuUH_1"
      },
      "execution_count": null,
      "outputs": []
    },
    {
      "cell_type": "markdown",
      "source": [
        "# Part Two\n"
      ],
      "metadata": {
        "id": "j6Ft7DBatEzE"
      }
    },
    {
      "cell_type": "markdown",
      "source": [
        "Now let's determine if our popcorn kernels follow a normal distribution.\n",
        "\n",
        "<font color='orange'>A normal distribution follows the equation\n",
        "$$f(x)=\\frac{1}{\\sigma \\sqrt{2\\pi}}e^{-\\frac{1}{2}(\\frac{x-\\mu}{\\sigma})^2}$$\n",
        "<font color='orange'> Where $\\sigma$ is the population standard deviation and $\\mu$ is the population mean.\n",
        "The general shape of a normal distribution is a \"bell-shaped curve\" as shown below.\n",
        "\n",
        "![simpleNormal.png](data:image/png;base64,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)"
      ],
      "metadata": {
        "id": "CVxNaCh03SLW"
      }
    },
    {
      "cell_type": "markdown",
      "source": [
        "Let's see if the kernels were normally distributed. In the graphs you will generate below, a histogram of the masses of each type of kernel will be generated in gray bars. On top of each histogram you will see a red curve, which represents the normal distribution of the data using the average and standard deviation of the mass.\n",
        "\n",
        "<font color='olivedrab'>Run the next cell by **holding \"Shift + Enter\"** and you should see two histograms, one for unpopped kernels and another for popped kernels.\n",
        "\n",
        "<font color='olivedrab'>Be sure to add a descriptive plot title, x-axis label, and y-axis label. As a fun challenge, try changing the color of the histogram bars.\n",
        "\n",
        "\n",
        "<font color='tomato'>Try changing the number of bins `n_bins` to see how it changes the histograms.\n",
        "\n",
        "*Hint: The number of bins provided may not be the best way to view the data. Instead find the value for `n_bins` that best represents the data.*</font>\n",
        "\n"
      ],
      "metadata": {
        "id": "MDYICaWQa8Q6"
      }
    },
    {
      "cell_type": "code",
      "source": [
        "n_bins = 2\n",
        "fig, axs = plt.subplots(2, 2, sharey=True, tight_layout=True)\n",
        "xg=np.linspace(np.min(data),np.max(data),100)\n",
        "\n",
        "#Orville Redenbacher Unpopped Histogram\n",
        "plt.subplot(2,2,1)\n",
        "plt.hist(OR_Unpopped, bins=n_bins, color = \"gray\")\n",
        "OR_Unpopped_gaussian = 1.0/(OR_Unpopped_StandardDeviation*(np.sqrt(2*np.pi)))*np.exp((-0.5*((xg-OR_Unpopped_AverageMass)/(OR_Unpopped_StandardDeviation))**2))\n",
        "plt.plot(xg,OR_Unpopped_gaussian,'r')\n",
        "plt.title(\"ADD TITLE HERE\")\n",
        "plt.xlabel(\"X-AXIS LABEL\")\n",
        "plt.ylabel(\"Y-AXIS LABEL\")\n",
        "\n",
        "#Orville Redenbacher Popped Histogram\n",
        "plt.subplot(2,2,2)\n",
        "plt.hist(OR_Popped, bins=n_bins, color = \"gray\")\n",
        "OR_Popped_gaussian = 1.0/(OR_Popped_StandardDeviation*(np.sqrt(2*np.pi)))*np.exp((-0.5*((xg-OR_Popped_AverageMass)/(OR_Popped_StandardDeviation))**2))\n",
        "plt.plot(xg,OR_Popped_gaussian,'r')\n",
        "plt.title(\"ADD TITLE HERE\")\n",
        "plt.xlabel(\"X-AXIS LABEL\")\n",
        "plt.ylabel(\"Y-AXIS LABEL\")\n",
        "\n",
        "#Signature Select Unpopped Histogram\n",
        "plt.subplot(2,2,3)\n",
        "plt.hist(SS_Unpopped, bins=n_bins, color = \"gray\")\n",
        "SS_Unpopped_gaussian = 1.0/(SS_Unpopped_StandardDeviation*(np.sqrt(2*np.pi)))*np.exp((-0.5*((xg-SS_Unpopped_AverageMass)/(SS_Unpopped_StandardDeviation))**2))\n",
        "plt.plot(xg,SS_Unpopped_gaussian,'r')\n",
        "plt.title(\"ADD TITLE HERE\")\n",
        "plt.xlabel(\"X-AXIS LABEL\")\n",
        "plt.ylabel(\"Y-AXIS LABEL\")\n",
        "\n",
        "#Signature Select Popped Histogram\n",
        "plt.subplot(2,2,4)\n",
        "plt.hist(SS_Popped, bins=n_bins, color = \"gray\")\n",
        "SS_Popped_gaussian = 1.0/(SS_Popped_StandardDeviation*(np.sqrt(2*np.pi)))*np.exp((-0.5*((xg-SS_Popped_AverageMass)/(SS_Popped_StandardDeviation))**2))\n",
        "plt.plot(xg,SS_Popped_gaussian,'r')\n",
        "plt.title(\"ADD TITLE HERE\")\n",
        "plt.xlabel(\"X-AXIS LABEL\")\n",
        "plt.ylabel(\"Y-AXIS LABEL\");"
      ],
      "metadata": {
        "id": "bpJAzbSOsiqW"
      },
      "execution_count": null,
      "outputs": []
    },
    {
      "cell_type": "markdown",
      "source": [
        "<font color='olivedrab'>Once the figures are ready to save, **right-click** on the image above and select **Save Image As**. Save this image to your computer with a meaningful file name so that you can upload it to Gradescope later."
      ],
      "metadata": {
        "id": "auw3n161uupe"
      }
    },
    {
      "cell_type": "markdown",
      "source": [
        "Let's compare the unpopped and popped kernels for Orville Redenbacher and Signature Select by plotting the histograms on top of each other.\n",
        "\n",
        "<font color='olivedrab'>Run the next cell by **holding \"Shift + Enter\"** and you should see two histograms, one for unpopped kernels and another for popped kernels.\n",
        "\n",
        "<font color='olivedrab'>Be sure to add a descriptive plot title, x-axis label, and y-axis label.\n",
        "\n",
        "\n",
        "<font color='tomato'>Try changing the number of bins `n_bins` to see how it changes the histograms.\n",
        "\n",
        "*Hint: The number of bins provided may not be the best way to view the data.*</font>"
      ],
      "metadata": {
        "id": "6_Dy4ngrtrqo"
      }
    },
    {
      "cell_type": "code",
      "source": [
        "n_bins = 2\n",
        "fig, axs = plt.subplots(1,2, sharey=True, tight_layout=True)\n",
        "#Plotting Unpopped Kernel Histogram\n",
        "axs[0].hist(OR_Unpopped, bins=n_bins, label='OR', color=\"gold\", alpha=0.8)\n",
        "axs[0].hist(SS_Unpopped, bins=n_bins, label='SS', color=\"steelblue\", alpha=0.8)\n",
        "axs[0].legend(loc=\"best\")\n",
        "axs[0].set_title(\"ADD TITLE HERE\")\n",
        "axs[0].set_xlabel(\"X-AXIS LABEL\")\n",
        "axs[0].set_ylabel(\"Y-AXIS LABEL\")\n",
        "\n",
        "\n",
        "#Plotting Popped Kernel Histogram\n",
        "axs[1].hist(OR_Popped, bins=n_bins, label='OR', color=\"gold\", alpha=0.8)\n",
        "axs[1].hist(SS_Popped, bins=n_bins, label='SS', color=\"steelblue\", alpha=0.8)\n",
        "axs[1].legend(loc=\"best\")\n",
        "axs[1].set_title(\"ADD TITLE HERE\")\n",
        "axs[1].set_xlabel(\"X-AXIS LABEL\");"
      ],
      "metadata": {
        "id": "cxpZMi35IzCD"
      },
      "execution_count": null,
      "outputs": []
    },
    {
      "cell_type": "markdown",
      "source": [
        "<font color='olivedrab'>Once the histograms are ready to save, **right-click** on the image above and select **Save Image As**. Save this image to your computer with a meaningful file name so that you can upload it to Gradescope later."
      ],
      "metadata": {
        "id": "LTbF-KfOH_Ux"
      }
    },
    {
      "cell_type": "markdown",
      "source": [
        "Now let's compare the unpopped and popped kernels for each brand by plotting the histograms on top of each other.\n",
        "\n",
        "<font color='olivedrab'>Run the next cell by **holding \"Shift + Enter\"** and you should see two histograms, one for Orville Redenbacher and another for Signature Select.\n",
        "\n",
        "<font color='olivedrab'>Be sure to add a descriptive plot title, x-axis label, and y-axis label.\n",
        "\n",
        "\n",
        "<font color='tomato'>Try changing the number of bins `n_bins` to see how it changes the histograms.\n",
        "\n",
        "*Hint: The number of bins provided may not be the best way to view the data.*</font>"
      ],
      "metadata": {
        "id": "ojCUhswzKdCc"
      }
    },
    {
      "cell_type": "code",
      "source": [
        "n_bins = 2\n",
        "fig, axs = plt.subplots(1,2, sharey=True, tight_layout=True)\n",
        "#Plotting Unpopped Kernel Histogram\n",
        "axs[0].hist(OR_Unpopped, bins=n_bins, label='unpopped', color=\"slategray\", alpha=0.8)\n",
        "axs[0].hist(OR_Popped, bins=n_bins, label='popped', color=\"tomato\", alpha=0.8)\n",
        "axs[0].legend(loc=\"best\")\n",
        "axs[0].set_title(\"ADD TITLE HERE\")\n",
        "axs[0].set_xlabel(\"X-AXIS LABEL\")\n",
        "axs[0].set_ylabel(\"Y-AXIS LABEL\")\n",
        "\n",
        "\n",
        "#Plotting Popped Kernel Histogram\n",
        "axs[1].hist(SS_Unpopped, bins=n_bins, label='unpopped', color=\"slategray\", alpha=0.8)\n",
        "axs[1].hist(SS_Popped, bins=n_bins, label='popped', color=\"tomato\", alpha=0.8)\n",
        "axs[1].legend(loc=\"best\")\n",
        "axs[1].set_title(\"ADD TITLE HERE\")\n",
        "axs[1].set_xlabel(\"X-AXIS LABEL\");"
      ],
      "metadata": {
        "id": "3vTi704XKw63"
      },
      "execution_count": null,
      "outputs": []
    },
    {
      "cell_type": "markdown",
      "source": [
        "<font color='olivedrab'>Once the histograms are ready to save, **right-click** on the image above and select **Save Image As**. Save this image to your computer with a meaningful file name so that you can upload it to Gradescope later."
      ],
      "metadata": {
        "id": "TgWm2neJWq72"
      }
    },
    {
      "cell_type": "markdown",
      "source": [
        "Now let's compare the amount of water lost during popping for each popcorn brand.\n"
      ],
      "metadata": {
        "id": "vnyPuOOPOElN"
      }
    },
    {
      "cell_type": "code",
      "source": [
        "n_bins = 20\n",
        "new_bins=np.linspace(OR_Relative_WaterLost.min(), OR_Relative_WaterLost.max(), n_bins)\n",
        "plt.hist(OR_Relative_WaterLost, bins=new_bins, label='OR', color = \"gold\", alpha = 0.8) #Orville Redenbacher Water Lost Data\n",
        "plt.hist(SS_Relative_WaterLost, bins=new_bins, label='SS', color = \"steelblue\", alpha = 0.8) #Signature Select Water Lost Data\n",
        "plt.legend(loc=\"best\")\n",
        "plt.title(\"ADD TITLE HERE\")\n",
        "plt.xlabel(\"X-AXIS LABEL\")\n",
        "plt.ylabel(\"Y-AXIS LABEL\");"
      ],
      "metadata": {
        "id": "tUZWuRJPOMZu"
      },
      "execution_count": null,
      "outputs": []
    },
    {
      "cell_type": "markdown",
      "source": [
        "<font color='olivedrab'>Once the histogram is ready to save, **right-click** on the image above and select **Save Image As**. Save this image to your computer with a meaningful file name so that you can upload it to Gradescope later."
      ],
      "metadata": {
        "id": "NVGGeqyfWs-a"
      }
    },
    {
      "cell_type": "markdown",
      "source": [
        "# Part Three\n"
      ],
      "metadata": {
        "id": "Juluf8uAvMD7"
      }
    },
    {
      "cell_type": "markdown",
      "source": [
        "Now that you have qualitatively evaluated the data, let's run some statistical tests to see if there is a significant difference between Orville Redenbacher and Signature Select kernel masses."
      ],
      "metadata": {
        "id": "yA1kaeAuu4go"
      }
    },
    {
      "cell_type": "markdown",
      "source": [
        "The data we collected is known as an unpaired data set, since the Orville Redenbacher and Signature Select kernels are not directly paired to one another. If we were to compare the masses of unpopped and popped kernels in each brand, this would be considered a paired data set."
      ],
      "metadata": {
        "id": "p0Z8ZXwLvXZd"
      }
    },
    {
      "cell_type": "markdown",
      "source": [
        "<font color='orange'> For an unpaired data set, we set a \"null hypothesis\" ($H_o$) that the samples are indistinguishable and an \"alternative hypothesis\" ($H_A$) that the samples are distinguishable.\n",
        "\n",
        "Now, in order to determine which hypothesis applies to our dataset, we need to perform some calculations."
      ],
      "metadata": {
        "id": "TqhcloNVvpYd"
      }
    },
    {
      "cell_type": "markdown",
      "source": [
        "Since this is an unpaired data set, we first need to determine the degrees of freedom for the system. There are two ways we can determine the degrees of freedome for the system.\n",
        "\n",
        "<font color='hotpink'> 1. If the variances are statistically equivalent between Orville Redenbacher and Signature Select kernels,\n",
        "<font color='hotpink'>$$\\text{DOF}=n_{OR}+n_{SS}-2$$.\n",
        "\n",
        "\n",
        "<font color='darkcyan'>2. If the variances are statistically different between Orville Redenbacher and Signature Select kernels\n",
        "<font color='darkcyan'> $$\\text{DOF}=\\frac{(\\frac{s_{OR}^2}{n_{OR}}+\\frac{s_{SS}^2}{n_{SS}})^2}{\\frac{s_{OR}^2}{n_{OR}^2(n_{OR}-1)}+\\frac{s_{SS}^2}{n_{SS}^2(n_{SS}-1)}}$$. *round to the nearest integer\n",
        "\n",
        "\n",
        "<font color='orange'> Where $s_{OR}$ and $s_{SS}$ are the standard deviations of the samples of Orville Redenbacher and Signature Select kernels, respectively, and $n_{OR}$ and $n_{SS}$ are the number of  Orville Redenbacher and Signature Select kernels, respectively."
      ],
      "metadata": {
        "id": "H6wluSI3yOUb"
      }
    },
    {
      "cell_type": "markdown",
      "source": [
        "First let's determine which method of determining our DOF is applicable, by perfomring an F-test. Using and F-test we are determining whether the standard deviations between Orville Redenbacher and Signature Select kernels is statistically equivalent."
      ],
      "metadata": {
        "id": "MTWfCAxp0Dvq"
      }
    },
    {
      "cell_type": "code",
      "source": [
        "OR_Unpopped_Variance=OR_Unpopped_StandardDeviation**2\n",
        "SS_Unpopped_Variance=SS_Unpopped_StandardDeviation**2\n",
        "if OR_Unpopped_StandardDeviation > SS_Unpopped_StandardDeviation :\n",
        "  f_exp=(OR_Unpopped_Variance)/(SS_Unpopped_Variance)\n",
        "else:\n",
        "  f_exp=(SS_Unpopped_Variance)/(OR_Unpopped_Variance)\n",
        "\n",
        "f_crit=stats.f.ppf(0.95, n_OR-1, n_SS-1)\n",
        "print(\"The value for F-exp for unpopped kernels is {:3.4f} \".format(f_exp))\n",
        "print(\"The value for F-crit for unpopped kernels is {:3.4f} \".format(f_crit))"
      ],
      "metadata": {
        "id": "he7wWjNq13-d"
      },
      "execution_count": null,
      "outputs": []
    },
    {
      "cell_type": "markdown",
      "source": [
        "Using the results for the F-test you performed above, if $F_{exp}<F_{crit}$ then we can assume the two standard deviations are statistically equivalent and we can use <font color='hotpink'> DOF Method 1\n",
        "\n",
        "to calculate the degrees of freedom.\n",
        "\n",
        "However, if $F_{exp}>F_{crit}$ then we must assume the two standard deviations are not statistically equivalent and we must use <font color='darkcyan'> DOF Method 2\n",
        "\n",
        "to calculate the degrees of freedom."
      ],
      "metadata": {
        "id": "Y6w8scVO3HnV"
      }
    },
    {
      "cell_type": "markdown",
      "source": [
        "### <font color='hotpink'> DOF Method 1"
      ],
      "metadata": {
        "id": "1QzRQOK_3hnH"
      }
    },
    {
      "cell_type": "code",
      "source": [
        "DOF=n_OR+n_SS-2\n",
        "print(\"The degrees of freedom is equal to {:3.0f}. \".format(DOF))"
      ],
      "metadata": {
        "id": "rydGj98s3gtw"
      },
      "execution_count": null,
      "outputs": []
    },
    {
      "cell_type": "markdown",
      "source": [
        "### <font color='darkcyan'> DOF Method 2\n",
        "\n",
        "(round to nearest integer value)"
      ],
      "metadata": {
        "id": "sEGbsf5o3kHo"
      }
    },
    {
      "cell_type": "code",
      "source": [
        "OR_Unpopped_Variance=OR_Unpopped_StandardDeviation**2\n",
        "SS_Unpopped_Variance=SS_Unpopped_StandardDeviation**2\n",
        "DOF=(((OR_Unpopped_Variance/n_OR)+(SS_Unpopped_Variance/n_SS))**2)/((OR_Unpopped_Variance**2/(n_OR**2*(n_OR-1)))+(SS_Unpopped_Variance**2/(n_SS**2*(n_SS-1))))\n",
        "print(\"The degrees of freedom is equal to {:3.3f}. \".format(DOF))"
      ],
      "metadata": {
        "id": "Hm7lMmsH32Sh"
      },
      "execution_count": null,
      "outputs": []
    },
    {
      "cell_type": "markdown",
      "source": [
        "Now we can perform a t-test. Depending on which method you used to determine your DOF, there will be a different t-test to perform."
      ],
      "metadata": {
        "id": "pB5uJ_dq7Wku"
      }
    },
    {
      "cell_type": "markdown",
      "source": [
        "### <font color='hotpink'> If you used DOF Method 1 follow this equation\n"
      ],
      "metadata": {
        "id": "ArR8NZaa7eiw"
      }
    },
    {
      "cell_type": "markdown",
      "source": [
        "Start by changing the value ``x`` in ``DOF=x`` to the degrees of freedom you determined above."
      ],
      "metadata": {
        "id": "QZmhMiCQ9IrH"
      }
    },
    {
      "cell_type": "code",
      "source": [
        "DOF=x\n",
        "s_pool=np.sqrt(((n_OR-1)*(OR_Unpopped_Variance)+(n_SS-1)*(SS_Unpopped_Variance))/(n_OR+n_SS-2))\n",
        "t_exp=np.abs(OR_Unpopped_AverageMass-SS_Unpopped_AverageMass)/(s_pool)*np.sqrt((n_OR*n_SS)/(n_OR+n_SS))\n",
        "t_crit=stats.t.ppf(0.95, DOF)\n",
        "print(\"The t-exp value is equal to {:3.3f}, and the t-critical value is {:3.3f}. \".format(t_exp, t_crit))"
      ],
      "metadata": {
        "id": "Lp5DSnU57nlC"
      },
      "execution_count": null,
      "outputs": []
    },
    {
      "cell_type": "markdown",
      "source": [
        "If $t_{exp}<t_{crit}$ we cannot reject the null hypothesis ($H_o$). If $t_{exp}>t_{crit}$ we reject the null hypothesis ($H_o$) and thus accept the alternative hypothesis ($H_A$)."
      ],
      "metadata": {
        "id": "qzg0X3vg9jvP"
      }
    },
    {
      "cell_type": "markdown",
      "source": [
        "### <font color='darkcyan'> If you used DOF Method 2 follow this equation\n"
      ],
      "metadata": {
        "id": "jHE9wevq7l2Q"
      }
    },
    {
      "cell_type": "markdown",
      "source": [
        "The DOF must be an integer value. Round your answer from the DOF calculator to the nearest integer and change the value ``x`` in ``DOF=x`` to the degrees of freedom you determined."
      ],
      "metadata": {
        "id": "lpJdHq87-bx8"
      }
    },
    {
      "cell_type": "code",
      "source": [
        "DOF=x\n",
        "t_exp=np.abs(OR_Unpopped_AverageMass-SS_Unpopped_AverageMass)/(np.sqrt((OR_Unpopped_Variance)/(n_OR)+(SS_Unpopped_Variance)/(n_SS)))\n",
        "t_crit=stats.t.ppf(0.95, DOF)\n",
        "print(\"The t-exp value is equal to {:3.3f}, and the t-critical value is {:3.3f}. \".format(t_exp, t_crit))"
      ],
      "metadata": {
        "id": "jNCx-6jh-caZ"
      },
      "execution_count": null,
      "outputs": []
    },
    {
      "cell_type": "markdown",
      "source": [
        "If $t_{exp}<t_{crit}$ we cannot reject the null hypothesis ($H_o$). If $t_{exp}>t_{crit}$ we reject the null hypothesis ($H_o$) and thus accept the alternative hypothesis ($H_A$)."
      ],
      "metadata": {
        "id": "GnY91f-h_W7-"
      }
    },
    {
      "cell_type": "markdown",
      "source": [
        "#Part Four"
      ],
      "metadata": {
        "id": "7tDaSn0q_cBb"
      }
    },
    {
      "cell_type": "markdown",
      "source": [
        "Now let's repeat this process for the popped kernels.\n",
        "\n",
        "Since this is an unpaired data set, we first need to determine the degrees of freedom for the system. There are two ways we can determine the degrees of freedom for the system.\n",
        "\n",
        "<font color='hotpink'> 1. If the variances are statistically equivalent between Orville Redenbacher and Signature Select kernels,\n",
        "<font color='hotpink'>$$\\text{DOF}=n_{OR}+n_{SS}-2$$\n",
        "\n",
        "\n",
        "<font color='darkcyan'>2. If the variances are statistically different between Orville Redenbacher and Signature Select kernels\n",
        "<font color='darkcyan'> $$\\text{DOF}=\\frac{(\\frac{s_{OR}^2}{n_{OR}}+\\frac{s_{SS}^2}{n_{SS}})^2}{\\frac{s_{OR}^2}{n_{OR}^2(n_{OR}-1)}+\\frac{s_{SS}^2}{n_{SS}^2(n_{SS}-1)}}$$. *round to the nearest integer\n",
        "\n",
        "\n",
        "<font color='orange'> Where $s_{OR}$ and $s_{SS}$ are the standard deviations of the samples of Orville Redenbacher and Signature Select kernels, respectively, and $n_{OR}$ and $n_{SS}$ are the number of  Orville Redenbacher and Signature Select kernels, respectively."
      ],
      "metadata": {
        "id": "6YCDrU_b_iHZ"
      }
    },
    {
      "cell_type": "code",
      "source": [
        "OR_Popped_Variance=OR_Popped_StandardDeviation**2\n",
        "SS_Popped_Variance=SS_Popped_StandardDeviation**2\n",
        "if OR_Popped_StandardDeviation > SS_Popped_StandardDeviation :\n",
        "  f_exp=(OR_Popped_Variance)/(SS_Popped_Variance)\n",
        "else:\n",
        "  f_exp=(SS_Popped_Variance)/(OR_Popped_Variance)\n",
        "\n",
        "f_crit=stats.f.ppf(0.95, n_OR-1, n_SS-1)\n",
        "print(\"The value for F-exp for popped kernels is {:3.4f} \".format(f_exp))\n",
        "print(\"The value for F-crit for popped kernels is {:3.4f} \".format(f_crit))"
      ],
      "metadata": {
        "id": "ubTbn706_tpA"
      },
      "execution_count": null,
      "outputs": []
    },
    {
      "cell_type": "markdown",
      "source": [
        "Using the results for the F-test you performed above, if $F_{exp}<F_{crit}$ then we can assume the two standard deviations are statistically equivalent and we can use <font color='hotpink'> DOF Method 1\n",
        "\n",
        "to calculate the degrees of freedom.\n",
        "\n",
        "However, if $F_{exp}>F_{crit}$ then we must assume the two standard deviations are not statistically equivalent and we must use <font color='darkcyan'> DOF Method 2\n",
        "\n",
        "to calculate the degrees of freedom."
      ],
      "metadata": {
        "id": "-ywWFnZiAjKR"
      }
    },
    {
      "cell_type": "markdown",
      "source": [
        "### <font color='hotpink'> DOF Method 1"
      ],
      "metadata": {
        "id": "7MfySgks_5xK"
      }
    },
    {
      "cell_type": "code",
      "source": [
        "DOF=n_OR+n_SS-2\n",
        "print(\"The degrees of freedom is equal to {:3.0f} \".format(DOF))"
      ],
      "metadata": {
        "id": "Y68NYw0D_6H0"
      },
      "execution_count": null,
      "outputs": []
    },
    {
      "cell_type": "markdown",
      "source": [
        "### <font color='darkcyan'> DOF Method 2\n",
        "\n",
        "(round to the nearest integer value)"
      ],
      "metadata": {
        "id": "_9fuC2VX_-DV"
      }
    },
    {
      "cell_type": "code",
      "source": [
        "OR_Popped_Variance=OR_Popped_StandardDeviation**2\n",
        "SS_Popped_Variance=SS_Popped_StandardDeviation**2\n",
        "DOF=(((OR_Popped_Variance/n_OR)+(SS_Unpopped_Variance/n_SS))**2)/((OR_Unpopped_Variance**2/(n_OR**2*(n_OR-1)))+(SS_Unpopped_Variance**2/(n_SS**2*(n_SS-1))))\n",
        "print(\"The degrees of freedom is equal to {:3.3f} \".format(DOF))"
      ],
      "metadata": {
        "id": "IOAPwQ11_-OY"
      },
      "execution_count": null,
      "outputs": []
    },
    {
      "cell_type": "markdown",
      "source": [
        "### <font color='hotpink'> If you used DOF Method 1 follow this equation\n"
      ],
      "metadata": {
        "id": "2Mr_5wI6AznM"
      }
    },
    {
      "cell_type": "markdown",
      "source": [
        "Start by changing the value ``x`` in ``DOF=x`` to the degrees of freedom you determined above."
      ],
      "metadata": {
        "id": "dwpPPkIdAznN"
      }
    },
    {
      "cell_type": "code",
      "source": [
        "DOF=x\n",
        "s_pool=np.sqrt(((n_OR-1)*(OR_Popped_Variance)+(n_SS-1)*(SS_Popped_Variance))/(n_OR+n_SS-2))\n",
        "t_exp=np.abs(OR_Popped_AverageMass-SS_Popped_AverageMass)/(s_pool)*np.sqrt((n_OR*n_SS)/(n_OR+n_SS))\n",
        "t_crit=stats.t.ppf(0.95, DOF)\n",
        "print(\"The t-exp value is equal to {:3.3f}, and the t-critical value is {:3.3f}. \".format(t_exp, t_crit))"
      ],
      "metadata": {
        "id": "PZsu-Lk0AznN"
      },
      "execution_count": null,
      "outputs": []
    },
    {
      "cell_type": "markdown",
      "source": [
        "If $t_{exp}<t_{crit}$ we cannot reject the null hypothesis ($H_o$). If $t_{exp}>t_{crit}$ we reject the null hypothesis ($H_o$) and thus accept the alternative hypothesis ($H_A$)."
      ],
      "metadata": {
        "id": "4rmbNXPOAznO"
      }
    },
    {
      "cell_type": "markdown",
      "source": [
        "### <font color='darkcyan'> If you used DOF Method 2 follow this equation\n"
      ],
      "metadata": {
        "id": "EvPmMT2SA_NX"
      }
    },
    {
      "cell_type": "markdown",
      "source": [
        "The DOF must be an integer value. Round your answer from the DOF calculator to the nearest integer and change the value ``x`` in ``DOF=x`` to the degrees of freedom you determined."
      ],
      "metadata": {
        "id": "CPBNnQmJA_NX"
      }
    },
    {
      "cell_type": "code",
      "source": [
        "DOF=x\n",
        "t_exp=np.abs(OR_Popped_AverageMass-SS_Popped_AverageMass)/(np.sqrt((OR_Popped_Variance)/(n_OR)+(SS_Popped_Variance)/(n_SS)))\n",
        "t_crit=stats.t.ppf(0.95, DOF)\n",
        "print(\"The t-exp value is equal to {:3.3f}, and the t-critical value is {:3.3f}. \".format(t_exp, t_crit))"
      ],
      "metadata": {
        "id": "iqNyfclJA_NY"
      },
      "execution_count": null,
      "outputs": []
    },
    {
      "cell_type": "markdown",
      "source": [
        "If $t_{exp}<t_{crit}$ we cannot reject the null hypothesis ($H_o$). If $t_{exp}>t_{crit}$ we reject the null hypothesis ($H_o$) and thus accept the alternative hypothesis ($H_A$)."
      ],
      "metadata": {
        "id": "9ILKxY3hA_NZ"
      }
    },
    {
      "cell_type": "markdown",
      "source": [],
      "metadata": {
        "id": "Zbvydo4lBVtz"
      }
    },
    {
      "cell_type": "markdown",
      "source": [
        "#Part Five"
      ],
      "metadata": {
        "id": "EurlJ9ewBWH1"
      }
    },
    {
      "cell_type": "markdown",
      "source": [
        "Now let's repeat this process for the relative water lost during popping.\n",
        "\n",
        "Since this is an unpaired data set, we first need to determine the degrees of freedom for the system. There are two ways we can determine the degrees of freedome for the system.\n",
        "\n",
        "<font color='hotpink'> 1. If the variances are statistically equivalent between Orville Redenbacher and Signature Select kernels,\n",
        "<font color='hotpink'>$$\\text{DOF}=n_{OR}+n_{SS}-2$$.\n",
        "\n",
        "\n",
        "<font color='darkcyan'>2. If the variances are statistically different between Orville Redenbacher and Signature Select kernels\n",
        "<font color='darkcyan'> $$\\text{DOF}=\\frac{(\\frac{s_{OR}^2}{n_{OR}}+\\frac{s_{SS}^2}{n_{SS}})^2}{\\frac{s_{OR}^2}{n_{OR}^2(n_{OR}-1)}+\\frac{s_{SS}^2}{n_{SS}^2(n_{SS}-1)}}$$. *round to the nearest integer\n",
        "\n",
        "\n",
        "<font color='orange'> Where $s_{OR}$ and $s_{SS}$ are the standard deviations of the samples of Orville Redenbacher and Signature Select kernels, respectively, and $n_{OR}$ and $n_{SS}$ are the number of  Orville Redenbacher and Signature Select kernels, respectively."
      ],
      "metadata": {
        "id": "nDB_TyljBWH1"
      }
    },
    {
      "cell_type": "code",
      "source": [
        "OR_Relative_WaterLost_Variance=OR_Relative_WaterLost_StandardDeviation**2\n",
        "SS_Relative_WaterLost_Variance=SS_Relative_WaterLost_StandardDeviation**2\n",
        "\n",
        "if OR_Relative_WaterLost_StandardDeviation > SS_Relative_WaterLost_StandardDeviation :\n",
        "  f_exp=(OR_Relative_WaterLost_Variance)/(SS_Relative_WaterLost_Variance)\n",
        "else:\n",
        "  f_exp=((SS_Relative_WaterLost_StandardDeviation)**2)/((OR_Relative_WaterLost_StandardDeviation)**2)\n",
        "\n",
        "f_crit=stats.f.ppf(0.95, n_OR-1, n_SS-1)\n",
        "print(\"The value for F-exp for the relative water lost is {:3.4f} \".format(f_exp))\n",
        "print(\"The value for F-crit for the relative water lost is {:3.4f} \".format(f_crit))"
      ],
      "metadata": {
        "id": "q1GF6Xy9BWH1"
      },
      "execution_count": null,
      "outputs": []
    },
    {
      "cell_type": "markdown",
      "source": [
        "Using the results for the F-test you performed above, if $F_{exp}<F_{crit}$ then we can assume the two standard deviations are statistically equivalent and we can use <font color='hotpink'> DOF Method 1\n",
        "\n",
        "to calculate the degrees of freedom.\n",
        "\n",
        "However, if $F_{exp}>F_{crit}$ then we must assume the two standard deviations are not statistically equivalent and we must use <font color='darkcyan'> DOF Method 2\n",
        "\n",
        "to calculate the degrees of freedom."
      ],
      "metadata": {
        "id": "xVMjnY3xBWH1"
      }
    },
    {
      "cell_type": "markdown",
      "source": [
        "### <font color='hotpink'> DOF Method 1"
      ],
      "metadata": {
        "id": "PEKYhvNjBWH1"
      }
    },
    {
      "cell_type": "code",
      "source": [
        "DOF=n_OR+n_SS-2\n",
        "print(\"The degrees of freedom is equal to {:3.0f} \".format(DOF))"
      ],
      "metadata": {
        "id": "sjfV2nfGBWH2"
      },
      "execution_count": null,
      "outputs": []
    },
    {
      "cell_type": "markdown",
      "source": [
        "### <font color='darkcyan'> DOF Method 2\n",
        "\n",
        "(round to the nearest integer value)"
      ],
      "metadata": {
        "id": "8VZdCPdYBWH2"
      }
    },
    {
      "cell_type": "code",
      "source": [
        "DOF=(((OR_Relative_WaterLost_Variance/n_OR)+(SS_Relative_WaterLost_Variance/n_SS))**2)/((OR_Relative_WaterLost_Variance**2/(n_OR**2*(n_OR-1)))+(SS_Relative_WaterLost_Variance**2/(n_SS**2*(n_SS-1))))\n",
        "print(\"The degrees of freedom is equal to {:3.3f} \".format(DOF))"
      ],
      "metadata": {
        "id": "vY3LQ8u1BWH2"
      },
      "execution_count": null,
      "outputs": []
    },
    {
      "cell_type": "markdown",
      "source": [
        "### <font color='hotpink'> If you used DOF Method 1 follow this equation\n"
      ],
      "metadata": {
        "id": "-3cbTtocBWH2"
      }
    },
    {
      "cell_type": "markdown",
      "source": [
        "Start by changing the value ``x`` in ``DOF=x`` to the degrees of freedom you determined above."
      ],
      "metadata": {
        "id": "WueChEJABWH2"
      }
    },
    {
      "cell_type": "code",
      "source": [
        "DOF=x\n",
        "s_pool=np.sqrt(((n_OR-1)*(OR_Relative_WaterLost_Variance)+(n_SS-1)*(SS_Relative_WaterLost_Variance))/(n_OR+n_SS-2))\n",
        "t_exp=np.abs(OR_Relative_WaterLost_AverageMass-SS_Relative_WaterLost_AverageMass)/(s_pool)*np.sqrt((n_OR*n_SS)/(n_OR+n_SS))\n",
        "t_crit=stats.t.ppf(0.95, DOF)\n",
        "print(\"The t-exp value is equal to {:3.3f}, and the t-critical value is {:3.3f}. \".format(t_exp, t_crit))"
      ],
      "metadata": {
        "id": "w_rrXdGBBWH2"
      },
      "execution_count": null,
      "outputs": []
    },
    {
      "cell_type": "markdown",
      "source": [
        "If $t_{exp}<t_{crit}$ we cannot reject the null hypothesis ($H_o$). If $t_{exp}>t_{crit}$ we reject the null hypothesis ($H_o$) and thus accept the alternative hypothesis ($H_A$)."
      ],
      "metadata": {
        "id": "yRnvNwmBBWH3"
      }
    },
    {
      "cell_type": "markdown",
      "source": [
        "### <font color='darkcyan'> If you used DOF Method 2 follow this equation\n"
      ],
      "metadata": {
        "id": "W4y9aaHfBWH3"
      }
    },
    {
      "cell_type": "markdown",
      "source": [
        "The DOF must be an integer value. Round your answer from the DOF calculator to the nearest integer and change the value ``x`` in ``DOF=x`` to the degrees of freedom you determined."
      ],
      "metadata": {
        "id": "FwTDkkHyBWH3"
      }
    },
    {
      "cell_type": "code",
      "source": [
        "DOF=x\n",
        "t_exp=np.abs(OR_Relative_WaterLost_AverageMass-SS_Relative_WaterLost_AverageMass)/(np.sqrt((OR_Relative_WaterLost_Variance)/(n_OR)+(SS_Relative_WaterLost_Variance)/(n_SS)))\n",
        "t_crit=stats.t.ppf(0.95, DOF)\n",
        "print(\"The t-exp value is equal to {:3.3f}, and the t-critical value is {:3.3f}. \".format(t_exp, t_crit))"
      ],
      "metadata": {
        "id": "8dvwEXaHBWH3"
      },
      "execution_count": null,
      "outputs": []
    },
    {
      "cell_type": "markdown",
      "source": [
        "If $t_{exp}<t_{crit}$ we cannot reject the null hypothesis ($H_o$). If $t_{exp}>t_{crit}$ we reject the null hypothesis ($H_o$) and thus accept the alternative hypothesis ($H_A$)."
      ],
      "metadata": {
        "id": "kELauPlZBWH3"
      }
    },
    {
      "cell_type": "markdown",
      "source": [
        "# Part Six\n",
        "\n"
      ],
      "metadata": {
        "id": "Px6v4f7stInE"
      }
    },
    {
      "cell_type": "markdown",
      "source": [
        "Now let's see if there are any outliers in our datasets.\n",
        "\n",
        "We will be using the Grubb's test to determine if any piece of data is statistically identified as an outlier. Run the last few cells to determine if any data points are identified as outliers.\n",
        "\n",
        "If no outliers are detected a message will print to notify you of that finding. If outliers are detected a message and the outlier masses will print."
      ],
      "metadata": {
        "id": "RdVtEvSH_jTl"
      }
    },
    {
      "cell_type": "code",
      "source": [
        "OR_UnpoppedOutliers=[]\n",
        "OR_UnpoppedOutliers = grubbs.min_test_outliers(OR_Unpopped, alpha=.05)\n",
        "OR_UnpoppedOutliers = OR_UnpoppedOutliers + grubbs.max_test_outliers(OR_Unpopped, alpha=.05)\n",
        "if OR_UnpoppedOutliers:\n",
        "  print(\"Outliers were detected for Orville Redenbacher Unpopped Kernels.\")\n",
        "  print(OR_UnpoppedOutliers)\n",
        "if not OR_UnpoppedOutliers:\n",
        "  print(\"There are no outliers for Orville Redenbacher Unpopped Kernels.\")"
      ],
      "metadata": {
        "id": "NwyQnxA6tJgl"
      },
      "execution_count": null,
      "outputs": []
    },
    {
      "cell_type": "code",
      "source": [
        "OR_PoppedOutliers=[]\n",
        "OR_PoppedOutliers = grubbs.min_test_outliers(OR_Popped, alpha=.05)\n",
        "OR_PoppedOutliers = OR_PoppedOutliers + grubbs.max_test_outliers(OR_Popped, alpha=.05)\n",
        "if OR_PoppedOutliers:\n",
        "  print(\"Outliers were detected for Orville Redenbacher Popped Kernels.\")\n",
        "  print(OR_PoppedOutliers)\n",
        "if not OR_PoppedOutliers:\n",
        "  print(\"There are no outliers for Orville Redenbacher Popped Kernels.\")"
      ],
      "metadata": {
        "id": "l-8Q6cOj_sE8"
      },
      "execution_count": null,
      "outputs": []
    },
    {
      "cell_type": "code",
      "source": [
        "SS_UnpoppedOutliers=[]\n",
        "SS_UnpoppedOutliers = grubbs.min_test_outliers(SS_Unpopped, alpha=.05)\n",
        "SS_UnpoppedOutliers = SS_UnpoppedOutliers + grubbs.max_test_outliers(SS_Unpopped, alpha=.05)\n",
        "if SS_UnpoppedOutliers:\n",
        "  print(\"Outliers were detected for Signature Select Unpopped Kernels.\")\n",
        "  print(SS_UnpoppedOutliers)\n",
        "if not SS_UnpoppedOutliers:\n",
        "  print(\"There are no outliers for Signature Select Unpopped Kernels.\")"
      ],
      "metadata": {
        "id": "ArtC4VdG_2qa"
      },
      "execution_count": null,
      "outputs": []
    },
    {
      "cell_type": "code",
      "source": [
        "SS_PoppedOutliers=[]\n",
        "SS_PoppedOutliers = grubbs.min_test_outliers(SS_Popped, alpha=.05)\n",
        "SS_PoppedOutliers = SS_PoppedOutliers + grubbs.max_test_outliers(SS_Popped, alpha=.05)\n",
        "if SS_PoppedOutliers:\n",
        "  print(\"Outliers were detected for Signature Select Popped Kernels.\")\n",
        "  print(SS_PoppedOutliers)\n",
        "if not SS_PoppedOutliers:\n",
        "  print(\"There are no outliers for Signature Select Popped Kernels.\")"
      ],
      "metadata": {
        "id": "k6z83jALASea"
      },
      "execution_count": null,
      "outputs": []
    },
    {
      "cell_type": "code",
      "source": [
        "OR_Relative_WaterLostOutliers=[]\n",
        "OR_Relative_WaterLostOutliers = grubbs.min_test_outliers(OR_Relative_WaterLost, alpha=.05)\n",
        "\n",
        "if OR_Relative_WaterLostOutliers:\n",
        "  print(\"Outliers were detected for the relative water lost during popping for Orville Redenbacher Kernels.\")\n",
        "  print(OR_Relative_WaterLostOutliers)\n",
        "if not OR_Relative_WaterLostOutliers:\n",
        "  print(\"There are no outliers for the relative water lost during popping for Orville Redenbacher Kernels.\")\n"
      ],
      "metadata": {
        "id": "kY69n65IcJWP"
      },
      "execution_count": null,
      "outputs": []
    },
    {
      "cell_type": "code",
      "source": [
        "SS_Relative_WaterLostOutliers=[]\n",
        "SS_Relative_WaterLostOutliers = grubbs.min_test_outliers(SS_Relative_WaterLost, alpha=.05)\n",
        "SS_Relative_WaterLostOutliers = SS_Relative_WaterLostOutliers + grubbs.max_test_outliers(SS_Relative_WaterLost, alpha=.05)\n",
        "if SS_Relative_WaterLostOutliers:\n",
        "  print(\"Outliers were detected for the relative water lost during popping for Sigature Select Kernels.\")\n",
        "  print(SS_Relative_WaterLostOutliers)\n",
        "if not SS_Relative_WaterLostOutliers:\n",
        "  print(\"There are no outliers for the relative water lost during popping for Signature Select Kernels.\")"
      ],
      "metadata": {
        "id": "4lUDG6PPce11"
      },
      "execution_count": null,
      "outputs": []
    }
  ]
}