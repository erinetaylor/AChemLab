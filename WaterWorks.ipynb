{
  "nbformat": 4,
  "nbformat_minor": 0,
  "metadata": {
    "colab": {
      "provenance": [],
      "authorship_tag": "ABX9TyObloInfNQUY3tZoMAtGVIf"
    },
    "kernelspec": {
      "name": "python3",
      "display_name": "Python 3"
    },
    "language_info": {
      "name": "python"
    }
  },
  "cells": [
    {
      "cell_type": "markdown",
      "source": [
        "# 💧 WaterWorks: Glassware Calibration\n",
        "\n",
        "Using this **COLAB notebook**, we will upload your personal glassware calibration data to later determine corrected delivered volumes. Along the way you will be able to answer Post Lab questions for Lab 3 - WaterWorks: Glassware Calibration.\n",
        "\n",
        "\n",
        "## Let's get started! 😀"
      ],
      "metadata": {
        "id": "qHyivBIL5BnI"
      }
    },
    {
      "cell_type": "markdown",
      "source": [
        "Let's start out by uploading our data into this notebook.\n",
        "\n",
        "<font color='green'>Start by executing the code below by clicking on the cell and **holding \"Shift+Enter\"** at the same time.</font>\n",
        "\n",
        "You should see a button appear with the text \"Choose Files\".\n",
        "\n",
        "<font color='green'>**Click on this button** and grab the data (GlasswareCalibrationData.csv) you saved earlier.</font>"
      ],
      "metadata": {
        "id": "EdKw3_DCmZvd"
      }
    },
    {
      "cell_type": "code",
      "execution_count": null,
      "metadata": {
        "id": "O6f375VP3_3v"
      },
      "outputs": [],
      "source": [
        "import pandas as pd\n",
        "import io\n",
        "import scipy as sc\n",
        "from scipy import stats\n",
        "import numpy as np\n",
        "import matplotlib.pyplot as plt\n",
        "\n",
        "from google.colab import files\n",
        "uploaded = files.upload()"
      ]
    },
    {
      "cell_type": "markdown",
      "source": [
        "Now that the csv file has been uploaded, run the cell below this text which will name your file under the name \"data\".\n",
        "\n",
        "<font color='green'>In the cell below, **hold \"Shift + Enter\"** at the same time. This cell should print all of the data in this file.\n",
        "\n",
        "Here we will be able to see the column header names which will be important in the next step\n",
        "\n",
        "<font color='red'>If you have renamed this file, be sure to also **change the name of the file** being called upon as 'GlasswareCalibrationData.csv' below.</font>"
      ],
      "metadata": {
        "id": "kTUjZKJwmjeg"
      }
    },
    {
      "cell_type": "code",
      "source": [
        "# Python program to read CSV file without header\n",
        "\n",
        "data = pd.read_csv('GlasswareCalibrationData.csv', encoding= 'unicode_escape')\n",
        "data = pd.DataFrame(data, index=None)\n",
        "data=data.tail(-1)\n",
        "ndata = data.count(axis=0, level=None, numeric_only=False) #count the number of data points in each dataset (column)"
      ],
      "metadata": {
        "id": "15YMrYq06o5_"
      },
      "execution_count": null,
      "outputs": []
    },
    {
      "cell_type": "markdown",
      "source": [
        "#Pipette Volume Calibration"
      ],
      "metadata": {
        "id": "bsLkofrRPYlh"
      }
    },
    {
      "cell_type": "markdown",
      "source": [
        "First, we will determine the mass of water delivered as\n",
        "\n",
        "<font color='blue'>$$\\text{mass delivered= final mass - initial mass}$$"
      ],
      "metadata": {
        "id": "5xNsIiPoPomr"
      }
    },
    {
      "cell_type": "code",
      "source": [
        "pipette_n_trials=ndata.get(0) #determine the number of trials included in the data file\n",
        "pipette_initial_mass=np.float_(data['Unnamed: 1']) #finds the column of initial mass\n",
        "pipette_final_mass=np.float_(data['Unnamed: 2']) #finds the column of final mass\n",
        "pipette_mass_delivered=np.subtract(pipette_final_mass,pipette_initial_mass) #calculates the mass of water delivered\n",
        "pipette_mass_delivered=pipette_mass_delivered[~np.isnan(pipette_mass_delivered)] #cleans up the data by removing all NaN cells\n",
        "pipette_average_mass_delivered=np.average(pipette_mass_delivered)"
      ],
      "metadata": {
        "id": "52f2YSnrFIge"
      },
      "execution_count": null,
      "outputs": []
    },
    {
      "cell_type": "markdown",
      "source": [
        "The following cell defines the function for determining the density (g/mL) of pure water at any temperature (T) in degress Celcius, as a polynomial function, as described in [Kell GS. *J Chera Eng Data.* 1975;20:97](https://pubs.acs.org/doi/pdf/10.1021/je60064a005).\n"
      ],
      "metadata": {
        "id": "8QNuUTbNP7Is"
      }
    },
    {
      "cell_type": "code",
      "source": [
        "#This equation will return the density (g/mL) of pure water at any temperature (T) in degrees Celcius. Taken from Kell GS. J Chera Eng Data. 1975;20:97.\n",
        "def density(T):\n",
        "  return (999.83951+16.945176*T-7.9870401*10**(-3)*T**2-46.170461*10**(-6)*T**3+105.56302*10**(-9)*T**4-280.54253*10**(-12)*T**5)/(1+16.897850*10**(-3)*T)*0.001"
      ],
      "metadata": {
        "id": "-LvsZRpS5rBE"
      },
      "execution_count": null,
      "outputs": []
    },
    {
      "cell_type": "markdown",
      "source": [
        "We can calculate the denisty of water at any temperature, by typing `density(T)` and running the cell.\n",
        "Try this out for a couple of temperatures including those listed in the Post-Lab."
      ],
      "metadata": {
        "id": "ER73RIKDniit"
      }
    },
    {
      "cell_type": "code",
      "source": [
        "density(T) #This equation will return the density (g/mL) of pure water at any temperature (T) in degrees Celcius."
      ],
      "metadata": {
        "id": "cs8jwsH1n10d"
      },
      "execution_count": null,
      "outputs": []
    },
    {
      "cell_type": "markdown",
      "source": [
        "The next cell, will calculate the density of the water for each trial using the temperature you input in your Excel sheet."
      ],
      "metadata": {
        "id": "nwZKjCTzq7MY"
      }
    },
    {
      "cell_type": "code",
      "source": [
        "pipette_temperature=np.float_(data['Unnamed: 3']) #converting to a float for math operations\n",
        "pipette_water_density=[] #setting up an empty array\n",
        "for i in range(0,pipette_n_trials):\n",
        "  temp=pipette_temperature[i] #grabbing the temperature at trial i\n",
        "  pipette_calculated_density=density(temp) #calculating the density at the trial temperature\n",
        "  pipette_water_density.append(pipette_calculated_density) #add this density to the array\n",
        "pipette_water_density=np.float_(pipette_water_density) #convert to a float for future math operations"
      ],
      "metadata": {
        "id": "g34gGKu5HuU7"
      },
      "execution_count": null,
      "outputs": []
    },
    {
      "cell_type": "markdown",
      "source": [
        "Now we have an array with the density of the water at each trial. This will now allow us to convert from mass of water delivered to volume of water delivered.\n",
        "\n",
        "<font color='blue'> $$\\frac{\\text{mass delivered}}{\\text{density of water}}=\\frac{g}{\\frac{g}{mL}}=\\text{mL of water delivered}$$"
      ],
      "metadata": {
        "id": "gD6ViEU2Rihd"
      }
    },
    {
      "cell_type": "code",
      "source": [
        "pipette_volume_delivered=np.divide(pipette_mass_delivered, pipette_water_density)\n",
        "pipette_average_volume_delivered=pipette_volume_delivered.mean()\n",
        "pipette_volume_range=pipette_volume_delivered.max()-pipette_volume_delivered.min()\n",
        "print(\"The average mass of water delivered from your 50 mL pipette is {:3.4f} g.\".format(pipette_average_mass_delivered))\n",
        "print(\"The average volume delivered from your 50 mL pipette is {:3.4f} mL.\".format(pipette_average_volume_delivered))\n",
        "print(\"The range of the volumes delivered from your 50 mL pipette is {:3.4f} mL.\".format(pipette_volume_range))"
      ],
      "metadata": {
        "id": "HqtSyCnwMTwx"
      },
      "execution_count": null,
      "outputs": []
    },
    {
      "cell_type": "markdown",
      "source": [
        "#Burette Volume Calibration"
      ],
      "metadata": {
        "id": "-pmavqIrUwhA"
      }
    },
    {
      "cell_type": "markdown",
      "source": [
        "First, we will determine the mass of water delivered as\n",
        "\n",
        "<font color='blue'>$$\\text{mass delivered= final mass - initial mass}$$\n",
        "\n",
        "We will also calculate the expected volume delivered as\n",
        "\n",
        "\n",
        "<font color='blue'>$$\\text{expected volume= final burette reading - initial burette reading}$$"
      ],
      "metadata": {
        "id": "eGki-8JGqn-j"
      }
    },
    {
      "cell_type": "code",
      "source": [
        "burette_n_trials=int(ndata.get(5)/5) #determine the number of trials included in the data file\n",
        "burette_initial_volume=np.float_(data['Unnamed: 7']) #finds the column of initial volumes\n",
        "burette_final_volume=np.float_(data['Unnamed: 8']) #finds the column of final volumes\n",
        "burette_expected_volume=np.subtract(burette_final_volume,burette_initial_volume) #calculates the expected volume of water delivered\n",
        "burette_initial_mass=np.float_(data['Unnamed: 9']) #finds the column of initial mass\n",
        "burette_final_mass=np.float_(data['Unnamed: 10']) #finds the column of final mass\n",
        "burette_mass_delivered=np.subtract(burette_final_mass,burette_initial_mass) #calculates the mass of water delivered"
      ],
      "metadata": {
        "id": "hPd_OllTN7Nv"
      },
      "execution_count": null,
      "outputs": []
    },
    {
      "cell_type": "markdown",
      "source": [
        "The next cell, will calculate the density of the water for each trial using the temperature you input in your Excel sheet.\n",
        "\n",
        "From there, we can convert from mass of water delivered to volume of water delivered, using the following equation.\n",
        "\n",
        "<font color='blue'> $$\\frac{\\text{mass delivered}}{\\text{density of water}}=\\frac{g}{\\frac{g}{mL}}=\\text{mL of water delivered}$$"
      ],
      "metadata": {
        "id": "2bo76kTSrPxB"
      }
    },
    {
      "cell_type": "markdown",
      "source": [
        "The following cell will also provide us a \"correction\" value which is defined as\n",
        "\n",
        "<font color='blue'> $$\\text{correction = expected volume - delivered volume}$$\n",
        "\n",
        "This correction will be calculated for each trial, averaged for each volume range in the burette and the range of these corrections will print below."
      ],
      "metadata": {
        "id": "JlNxEs2Yrfgr"
      }
    },
    {
      "cell_type": "code",
      "source": [
        "burette_temperature=np.float_(data['Unnamed: 11']) #converting to a float for math operations\n",
        "burette_water_density=[] #setting up an empty array\n",
        "for i in range(0,burette_n_trials*5):\n",
        "  temp=burette_temperature[i] #grabbing the temperature at trial i\n",
        "  burette_calculated_density=density(temp) #calculating the density at the trial temperature\n",
        "  burette_water_density.append(burette_calculated_density) #add this density to the array\n",
        "burette_water_density=np.float_(burette_water_density) #convert to a float for future math operations\n",
        "burette_volume_delivered=np.divide(burette_mass_delivered, burette_water_density)\n",
        "burette_correction=np.subtract(burette_expected_volume,burette_volume_delivered)\n",
        "print(\"The correction range for the  0-10 mL segment of your burette was {:3.6f}.\".format(max(burette_correction[0:3])-min(burette_correction[0:3])))\n",
        "print(\"The correction range for the 10-20 mL segment of your burette was {:3.6f}.\".format(max(burette_correction[3:6])-min(burette_correction[3:6])))\n",
        "print(\"The correction range for the 20-30 mL segment of your burette was {:3.6f}.\".format(max(burette_correction[6:9])-min(burette_correction[6:9])))\n",
        "print(\"The correction range for the 30-40 mL segment of your burette was {:3.6f}.\".format(max(burette_correction[9:12])-min(burette_correction[9:12])))\n",
        "print(\"The correction range for the 40-50 mL segment of your burette was {:3.6f}.\".format(max(burette_correction[12:15])-min(burette_correction[12:15])))"
      ],
      "metadata": {
        "id": "U7PlGbu-Vdv5"
      },
      "execution_count": null,
      "outputs": []
    },
    {
      "cell_type": "markdown",
      "source": [
        "The following cell will print the average corrections for each burette segment."
      ],
      "metadata": {
        "id": "stw9tn7nKWDu"
      }
    },
    {
      "cell_type": "code",
      "source": [
        "zero_ten_mL_correction= np.mean(burette_correction[0:3])\n",
        "ten_twenty_mL_correction= np.mean(burette_correction[3:6])\n",
        "twenty_thirty_mL_correction= np.mean(burette_correction[6:9])\n",
        "thirty_fourty_mL_correction= np.mean(burette_correction[9:12])\n",
        "fourty_fifty_mL_correction= np.mean(burette_correction[12:15])\n",
        "print(\"zero_ten_mL_correction= {:3.6f}\".format(zero_ten_mL_correction))\n",
        "print(\"ten_twenty_mL_correction= {:3.6f}\".format(ten_twenty_mL_correction))\n",
        "print(\"twenty_thirty_mL_correction= {:3.6f}\".format(twenty_thirty_mL_correction))\n",
        "print(\"thirty_fourty_mL_correction= {:3.6f}\".format(thirty_fourty_mL_correction))\n",
        "print(\"fourty_fifty_mL_correction= {:3.6f}\".format(fourty_fifty_mL_correction))"
      ],
      "metadata": {
        "id": "LNB3ty5MKNyY"
      },
      "execution_count": null,
      "outputs": []
    },
    {
      "cell_type": "markdown",
      "source": [
        "Now you have the information you need to start working on the next Colab Notebook (BuretteCalibrationCorrections.ipynb).\n",
        "\n",
        "Copy the print out above that looks something like...\n",
        "\n",
        "`zero_ten_mL_correction= `\n",
        "\n",
        "`ten_twenty_mL_correction= `\n",
        "\n",
        "`twenty_thirty_mL_correction= `\n",
        "\n",
        "`thirty_fourty_mL_correction= `\n",
        "\n",
        "`fourty_fifty_mL_correction= `\n",
        "\n",
        "And paste all of this information where indicated in BuretteCalibrationCorrections.ipynb."
      ],
      "metadata": {
        "id": "Pvi30RAElhy8"
      }
    }
  ]
}