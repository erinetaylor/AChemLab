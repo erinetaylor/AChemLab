{
  "nbformat": 4,
  "nbformat_minor": 0,
  "metadata": {
    "colab": {
      "provenance": [],
      "authorship_tag": "ABX9TyMOf7IUTHM3lyQszaZ2+KIX"
    },
    "kernelspec": {
      "name": "python3",
      "display_name": "Python 3"
    },
    "language_info": {
      "name": "python"
    }
  },
  "cells": [
    {
      "cell_type": "markdown",
      "source": [
        "# 🍿 KernelQuest II: Statistical Analysis of Popcorn Kernels\n",
        "\n",
        "Using this **COLAB notebook**, we will upload the combined data from last week's lab, and use different statistical calculations to answer the questions provided in the Post Lab questions for Lab 2 - KernelQuest II: Statistical Analysis of Popcorn Kernels.\n",
        "\n",
        "\n",
        "## Let's get started! 😀"
      ],
      "metadata": {
        "id": "j5kyFAjZ11gv"
      }
    },
    {
      "cell_type": "markdown",
      "source": [
        "First things first.\n",
        "\n",
        "<font color='green'>Please **download** the popcorn_data.csv file from Canvas to your computer.</font>"
      ],
      "metadata": {
        "id": "UC5960EX4-Ib"
      }
    },
    {
      "cell_type": "markdown",
      "source": [
        "# Part One"
      ],
      "metadata": {
        "id": "pr8rVDK27t4T"
      }
    },
    {
      "cell_type": "markdown",
      "source": [
        "Let's start out by uploading our data into this notebook.\n",
        "\n",
        "<font color='green'>Start by executing the code below by clicking on the cell and **holding \"Shift+Enter\"** at the same time.</font>\n",
        "\n",
        "You should see a button appear with the text \"Choose Files\".\n",
        "\n",
        "<font color='green'>**Click on this button** and grab the data (popcorn_data.csv) you downloaded from Canvas.</font>"
      ],
      "metadata": {
        "id": "t_GpX_DKqXkP"
      }
    },
    {
      "cell_type": "code",
      "execution_count": null,
      "metadata": {
        "id": "E8lukig8ym6Q",
        "colab": {
          "base_uri": "https://localhost:8080/",
          "height": 142
        },
        "outputId": "53eaace9-28df-411a-9181-9adb5165ede0"
      },
      "outputs": [
        {
          "output_type": "stream",
          "name": "stdout",
          "text": [
            "Collecting outlier_utils\n",
            "  Downloading outlier_utils-0.0.3-py3-none-any.whl (6.0 kB)\n",
            "Installing collected packages: outlier_utils\n",
            "Successfully installed outlier_utils-0.0.3\n"
          ]
        },
        {
          "output_type": "display_data",
          "data": {
            "text/plain": [
              "<IPython.core.display.HTML object>"
            ],
            "text/html": [
              "\n",
              "     <input type=\"file\" id=\"files-e8741ef6-d172-4828-b126-36be25882c09\" name=\"files[]\" multiple disabled\n",
              "        style=\"border:none\" />\n",
              "     <output id=\"result-e8741ef6-d172-4828-b126-36be25882c09\">\n",
              "      Upload widget is only available when the cell has been executed in the\n",
              "      current browser session. Please rerun this cell to enable.\n",
              "      </output>\n",
              "      <script>// Copyright 2017 Google LLC\n",
              "//\n",
              "// Licensed under the Apache License, Version 2.0 (the \"License\");\n",
              "// you may not use this file except in compliance with the License.\n",
              "// You may obtain a copy of the License at\n",
              "//\n",
              "//      http://www.apache.org/licenses/LICENSE-2.0\n",
              "//\n",
              "// Unless required by applicable law or agreed to in writing, software\n",
              "// distributed under the License is distributed on an \"AS IS\" BASIS,\n",
              "// WITHOUT WARRANTIES OR CONDITIONS OF ANY KIND, either express or implied.\n",
              "// See the License for the specific language governing permissions and\n",
              "// limitations under the License.\n",
              "\n",
              "/**\n",
              " * @fileoverview Helpers for google.colab Python module.\n",
              " */\n",
              "(function(scope) {\n",
              "function span(text, styleAttributes = {}) {\n",
              "  const element = document.createElement('span');\n",
              "  element.textContent = text;\n",
              "  for (const key of Object.keys(styleAttributes)) {\n",
              "    element.style[key] = styleAttributes[key];\n",
              "  }\n",
              "  return element;\n",
              "}\n",
              "\n",
              "// Max number of bytes which will be uploaded at a time.\n",
              "const MAX_PAYLOAD_SIZE = 100 * 1024;\n",
              "\n",
              "function _uploadFiles(inputId, outputId) {\n",
              "  const steps = uploadFilesStep(inputId, outputId);\n",
              "  const outputElement = document.getElementById(outputId);\n",
              "  // Cache steps on the outputElement to make it available for the next call\n",
              "  // to uploadFilesContinue from Python.\n",
              "  outputElement.steps = steps;\n",
              "\n",
              "  return _uploadFilesContinue(outputId);\n",
              "}\n",
              "\n",
              "// This is roughly an async generator (not supported in the browser yet),\n",
              "// where there are multiple asynchronous steps and the Python side is going\n",
              "// to poll for completion of each step.\n",
              "// This uses a Promise to block the python side on completion of each step,\n",
              "// then passes the result of the previous step as the input to the next step.\n",
              "function _uploadFilesContinue(outputId) {\n",
              "  const outputElement = document.getElementById(outputId);\n",
              "  const steps = outputElement.steps;\n",
              "\n",
              "  const next = steps.next(outputElement.lastPromiseValue);\n",
              "  return Promise.resolve(next.value.promise).then((value) => {\n",
              "    // Cache the last promise value to make it available to the next\n",
              "    // step of the generator.\n",
              "    outputElement.lastPromiseValue = value;\n",
              "    return next.value.response;\n",
              "  });\n",
              "}\n",
              "\n",
              "/**\n",
              " * Generator function which is called between each async step of the upload\n",
              " * process.\n",
              " * @param {string} inputId Element ID of the input file picker element.\n",
              " * @param {string} outputId Element ID of the output display.\n",
              " * @return {!Iterable<!Object>} Iterable of next steps.\n",
              " */\n",
              "function* uploadFilesStep(inputId, outputId) {\n",
              "  const inputElement = document.getElementById(inputId);\n",
              "  inputElement.disabled = false;\n",
              "\n",
              "  const outputElement = document.getElementById(outputId);\n",
              "  outputElement.innerHTML = '';\n",
              "\n",
              "  const pickedPromise = new Promise((resolve) => {\n",
              "    inputElement.addEventListener('change', (e) => {\n",
              "      resolve(e.target.files);\n",
              "    });\n",
              "  });\n",
              "\n",
              "  const cancel = document.createElement('button');\n",
              "  inputElement.parentElement.appendChild(cancel);\n",
              "  cancel.textContent = 'Cancel upload';\n",
              "  const cancelPromise = new Promise((resolve) => {\n",
              "    cancel.onclick = () => {\n",
              "      resolve(null);\n",
              "    };\n",
              "  });\n",
              "\n",
              "  // Wait for the user to pick the files.\n",
              "  const files = yield {\n",
              "    promise: Promise.race([pickedPromise, cancelPromise]),\n",
              "    response: {\n",
              "      action: 'starting',\n",
              "    }\n",
              "  };\n",
              "\n",
              "  cancel.remove();\n",
              "\n",
              "  // Disable the input element since further picks are not allowed.\n",
              "  inputElement.disabled = true;\n",
              "\n",
              "  if (!files) {\n",
              "    return {\n",
              "      response: {\n",
              "        action: 'complete',\n",
              "      }\n",
              "    };\n",
              "  }\n",
              "\n",
              "  for (const file of files) {\n",
              "    const li = document.createElement('li');\n",
              "    li.append(span(file.name, {fontWeight: 'bold'}));\n",
              "    li.append(span(\n",
              "        `(${file.type || 'n/a'}) - ${file.size} bytes, ` +\n",
              "        `last modified: ${\n",
              "            file.lastModifiedDate ? file.lastModifiedDate.toLocaleDateString() :\n",
              "                                    'n/a'} - `));\n",
              "    const percent = span('0% done');\n",
              "    li.appendChild(percent);\n",
              "\n",
              "    outputElement.appendChild(li);\n",
              "\n",
              "    const fileDataPromise = new Promise((resolve) => {\n",
              "      const reader = new FileReader();\n",
              "      reader.onload = (e) => {\n",
              "        resolve(e.target.result);\n",
              "      };\n",
              "      reader.readAsArrayBuffer(file);\n",
              "    });\n",
              "    // Wait for the data to be ready.\n",
              "    let fileData = yield {\n",
              "      promise: fileDataPromise,\n",
              "      response: {\n",
              "        action: 'continue',\n",
              "      }\n",
              "    };\n",
              "\n",
              "    // Use a chunked sending to avoid message size limits. See b/62115660.\n",
              "    let position = 0;\n",
              "    do {\n",
              "      const length = Math.min(fileData.byteLength - position, MAX_PAYLOAD_SIZE);\n",
              "      const chunk = new Uint8Array(fileData, position, length);\n",
              "      position += length;\n",
              "\n",
              "      const base64 = btoa(String.fromCharCode.apply(null, chunk));\n",
              "      yield {\n",
              "        response: {\n",
              "          action: 'append',\n",
              "          file: file.name,\n",
              "          data: base64,\n",
              "        },\n",
              "      };\n",
              "\n",
              "      let percentDone = fileData.byteLength === 0 ?\n",
              "          100 :\n",
              "          Math.round((position / fileData.byteLength) * 100);\n",
              "      percent.textContent = `${percentDone}% done`;\n",
              "\n",
              "    } while (position < fileData.byteLength);\n",
              "  }\n",
              "\n",
              "  // All done.\n",
              "  yield {\n",
              "    response: {\n",
              "      action: 'complete',\n",
              "    }\n",
              "  };\n",
              "}\n",
              "\n",
              "scope.google = scope.google || {};\n",
              "scope.google.colab = scope.google.colab || {};\n",
              "scope.google.colab._files = {\n",
              "  _uploadFiles,\n",
              "  _uploadFilesContinue,\n",
              "};\n",
              "})(self);\n",
              "</script> "
            ]
          },
          "metadata": {}
        },
        {
          "output_type": "stream",
          "name": "stdout",
          "text": [
            "Saving popcorn_data.csv to popcorn_data.csv\n"
          ]
        }
      ],
      "source": [
        "!pip install outlier_utils\n",
        "import pandas as pd\n",
        "import io\n",
        "import scipy as sc\n",
        "from scipy import stats\n",
        "import numpy as np\n",
        "from outliers import smirnov_grubbs as grubbs\n",
        "import matplotlib.pyplot as plt\n",
        "import plotly.express as px\n",
        "\n",
        "from google.colab import files\n",
        "uploaded = files.upload()"
      ]
    },
    {
      "cell_type": "markdown",
      "source": [
        "Now that the csv file has been uploaded, run the cell below this text which will name your file under the name \"data\".\n",
        "\n",
        "<font color='green'>In the cell below, **hold \"Shift + Enter\"** at the same time. This cell should print all of the data in this file.\n",
        "\n",
        "Here we will be able to see the column header names which will be important in the next step\n",
        "\n",
        "<font color='red'>If you have renamed this file, be sure to also **change the name of the file** being called upon as 'popcorn_data.csv' below.</font>"
      ],
      "metadata": {
        "id": "XETFJgo4Dx_h"
      }
    },
    {
      "cell_type": "code",
      "source": [
        "#The following code will install the modules needed to run the rest of the code.\n",
        "\n",
        "\n",
        "#This code will allow us to read the data file and show the data below.\n",
        "df = pd.read_csv(io.BytesIO(uploaded['popcorn_data.csv']))\n",
        "print(df)"
      ],
      "metadata": {
        "colab": {
          "base_uri": "https://localhost:8080/"
        },
        "id": "b7Fk_we5Co1c",
        "outputId": "763fe755-d466-462c-d442-135d3ac96187"
      },
      "execution_count": null,
      "outputs": [
        {
          "output_type": "stream",
          "name": "stdout",
          "text": [
            "    OR Unpopped Mass  OR Popped Mass  SS Unpopped Mass  SS Popped Mass\n",
            "0             0.1466          0.0915            0.1582          0.1400\n",
            "1             0.1457          0.0987            0.1316          0.1211\n",
            "2             0.1217          0.1216            0.0972          0.0895\n",
            "3             0.1499          0.1063            0.1390          0.1281\n",
            "4             0.1618          0.1145            0.1484          0.1354\n",
            "..               ...             ...               ...             ...\n",
            "60               NaN             NaN            0.1288          0.1171\n",
            "61               NaN             NaN            0.1195          0.1080\n",
            "62               NaN             NaN            0.1514          0.1357\n",
            "63               NaN             NaN            0.1768          0.1597\n",
            "64               NaN             NaN            0.1766          0.1593\n",
            "\n",
            "[65 rows x 4 columns]\n"
          ]
        }
      ]
    },
    {
      "cell_type": "code",
      "source": [
        "data = pd.DataFrame(df, index=None) #rename the dataframe\n",
        "ndata = data.count(axis=0, level=None, numeric_only=False) #count the number of data points in each dataset (column)"
      ],
      "metadata": {
        "id": "M0H8oXlkxFTh"
      },
      "execution_count": null,
      "outputs": []
    },
    {
      "cell_type": "markdown",
      "source": [
        "Now that our large dataset is imported, let's perform some statistical analysis by first determining the average and standard deviation of the mass of an unpopped and popped kernel for both Brand A and Brand B.\n",
        "\n",
        "Notice that the column name for the unpopped Brand A data is \"unpopped Brand A\".\n",
        "\n",
        "<font color='red'>If your column header is different, please **update the column name** in the two locations found below. </font>\n",
        "\n",
        "<font color='blue'>For your reference, the equations for **average** and **standard deviation** are shown below.\n",
        "$$\\text{Average}=\\bar{X}=\\frac{\\sum_{i=1}^{n} X_i}{n}$$\n",
        "<font color='blue'>\n",
        "$$\\text{Standard Deviation}=s=\\sqrt{\\frac{\\sum_{i=1}^{n} (X_i-\\bar{X})}{n-1}}$$"
      ],
      "metadata": {
        "id": "Qq99zG7vF5pI"
      }
    },
    {
      "cell_type": "markdown",
      "source": [
        "<font color='green'>In the cell below, **hold \"Shift + Enter\"** at the same time. This cell should print some text, that will tell us about the mean and standard deviation of the different samples."
      ],
      "metadata": {
        "id": "21fP4_P0RL0_"
      }
    },
    {
      "cell_type": "code",
      "source": [
        "OR_Unpopped=data[\"OR Unpopped Mass\"]\n",
        "OR_Unpopped_AverageMass=OR_Unpopped.mean()\n",
        "OR_Unpopped_StandardDeviation=OR_Unpopped.std()\n",
        "print(\"The average mass of an unpopped kernel of Orville Redenbacher popcorn is {:3.4f} g.\".format(OR_Unpopped_AverageMass))\n",
        "print(\"The standard deviation of the mass of an Orville Redenbacher unpopped kernel of popcorn is {:3.4f} g.\".format(OR_Unpopped_StandardDeviation))"
      ],
      "metadata": {
        "colab": {
          "base_uri": "https://localhost:8080/"
        },
        "id": "erB3cH1iF5FQ",
        "outputId": "c51e07b8-a07e-48f8-829b-7ed64500f63f"
      },
      "execution_count": null,
      "outputs": [
        {
          "output_type": "stream",
          "name": "stdout",
          "text": [
            "The average mass of an unpopped kernel of Orville Redenbacher popcorn is 0.1706 g.\n",
            "The standard deviation of the mass of an Orville Redenbacher unpopped kernel of popcorn is 0.0296 g.\n"
          ]
        }
      ]
    },
    {
      "cell_type": "code",
      "source": [
        "OR_Popped=data[\"OR Popped Mass\"]\n",
        "OR_Popped_AverageMass=OR_Popped.mean()\n",
        "OR_Popped_StandardDeviation=OR_Popped.std()\n",
        "print(\"The average mass of a popped kernel of Orville Redenbacher popcorn is {:3.4f} g.\".format(OR_Popped_AverageMass))\n",
        "print(\"The standard deviation of the mass of an Orville Redenbacher popped kernel of popcorn is {:3.4f} g.\".format(OR_Popped_StandardDeviation))"
      ],
      "metadata": {
        "id": "ZR9CPqcXHPW_",
        "outputId": "3284d8b3-7646-4e23-ceee-1d9f7c187578",
        "colab": {
          "base_uri": "https://localhost:8080/"
        }
      },
      "execution_count": null,
      "outputs": [
        {
          "output_type": "stream",
          "name": "stdout",
          "text": [
            "The average mass of a popped kernel of Orville Redenbacher popcorn is 0.1511 g.\n",
            "The standard deviation of the mass of an Orville Redenbacher popped kernel of popcorn is 0.0300 g.\n"
          ]
        }
      ]
    },
    {
      "cell_type": "code",
      "source": [
        "SS_Unpopped=data[\"SS Unpopped Mass\"]\n",
        "SS_Unpopped_AverageMass=SS_Unpopped.mean()\n",
        "SS_Unpopped_StandardDeviation=SS_Unpopped.std()\n",
        "print(\"The average mass of an unpopped kernel of Signature Select popcorn is {:3.4f} g.\".format(SS_Unpopped_AverageMass))\n",
        "print(\"The standard deviation of the mass of a Signature Select unpopped kernel of popcorn is {:3.4f} g.\".format(SS_Unpopped_StandardDeviation))"
      ],
      "metadata": {
        "colab": {
          "base_uri": "https://localhost:8080/"
        },
        "id": "1XEsQ8eFmXip",
        "outputId": "90b64d0f-db2e-4f81-f1b9-b211036bd89b"
      },
      "execution_count": null,
      "outputs": [
        {
          "output_type": "stream",
          "name": "stdout",
          "text": [
            "The average mass of an unpopped kernel of Signature Select popcorn is 0.1411 g.\n",
            "The standard deviation of the mass of a Signature Select unpopped kernel of popcorn is 0.0275 g.\n"
          ]
        }
      ]
    },
    {
      "cell_type": "code",
      "source": [
        "SS_Popped=data[\"SS Popped Mass\"]\n",
        "SS_Popped_AverageMass=SS_Popped.mean()\n",
        "SS_Popped_StandardDeviation=SS_Popped.std()\n",
        "print(\"The average mass of a popped kernel of Signature Select popcorn is {:3.4f} g.\".format(SS_Popped_AverageMass))\n",
        "print(\"The standard deviation of the mass of a Signature Select popped kernel of popcorn is {:3.4f} g.\".format(SS_Popped_StandardDeviation))"
      ],
      "metadata": {
        "colab": {
          "base_uri": "https://localhost:8080/"
        },
        "id": "ZzlJKiy9mgv6",
        "outputId": "3e359030-bbaa-4e9c-b9c8-14d5d642c78c"
      },
      "execution_count": null,
      "outputs": [
        {
          "output_type": "stream",
          "name": "stdout",
          "text": [
            "The average mass of a popped kernel of Signature Select popcorn is 0.1281 g.\n",
            "The standard deviation of the mass of a Signature Select popped kernel of popcorn is 0.0251 g.\n"
          ]
        }
      ]
    },
    {
      "cell_type": "markdown",
      "source": [
        "Now let's determine the mass of water lost during popping by **assuming all of the mass lost during popping was due to steam escaping the kernel**.\n",
        "<font color='blue'>$$\\text{water mass=unpopped mass - popped mass}$$\n",
        "\n",
        "<font color='green'>Once again, in the cell below, **hold \"Shift+Enter\"** at the same time. This cell should print some text, that will tell us about the mean and standard deviation of the water lost for both kernel brands."
      ],
      "metadata": {
        "id": "Qz4Gbt-lsu9S"
      }
    },
    {
      "cell_type": "code",
      "source": [
        "OR_WaterLost=OR_Unpopped-OR_Popped\n",
        "OR_WaterLost_AverageMass=OR_WaterLost.mean()\n",
        "OR_WaterLost_StandardDeviation=OR_WaterLost.std()\n",
        "print(\"The average mass of water lost during popping for Orville Redenbacher popcorn is {:3.4f} g.\".format(OR_WaterLost_AverageMass))\n",
        "print(\"The standard deviation of water lost during popping for Orville Redenbacher popcorn is {:3.4f} g.\".format(OR_WaterLost_StandardDeviation))"
      ],
      "metadata": {
        "colab": {
          "base_uri": "https://localhost:8080/"
        },
        "id": "KGy796Wos3PP",
        "outputId": "b95f3ae0-81c6-4bc1-87e2-cceb071bc8a2"
      },
      "execution_count": null,
      "outputs": [
        {
          "output_type": "stream",
          "name": "stdout",
          "text": [
            "The average mass of water lost during popping for Orville Redenbacher popcorn is 0.0195 g.\n",
            "The standard deviation of water lost during popping for Orville Redenbacher popcorn is 0.0091 g.\n"
          ]
        }
      ]
    },
    {
      "cell_type": "code",
      "source": [
        "SS_WaterLost=SS_Unpopped-SS_Popped\n",
        "SS_WaterLost_AverageMass=SS_WaterLost.mean()\n",
        "SS_WaterLost_StandardDeviation=SS_WaterLost.std()\n",
        "print(\"The average mass of water lost during popping for Signature Select popcorn is {:3.4f} g.\".format(SS_WaterLost_AverageMass))\n",
        "print(\"The standard deviation of water lost during popping for Signature Select popcorn is {:3.4f} g.\".format(SS_WaterLost_StandardDeviation))"
      ],
      "metadata": {
        "colab": {
          "base_uri": "https://localhost:8080/"
        },
        "id": "BRqXqQI_mo58",
        "outputId": "e89ce511-693f-4342-d85f-8ed19ad87148"
      },
      "execution_count": null,
      "outputs": [
        {
          "output_type": "stream",
          "name": "stdout",
          "text": [
            "The average mass of water lost during popping for Signature Select popcorn is 0.0130 g.\n",
            "The standard deviation of water lost during popping for Signature Select popcorn is 0.0033 g.\n"
          ]
        }
      ]
    },
    {
      "cell_type": "markdown",
      "source": [
        "Now let's determine the confidence intervals for the unpopped, popped, and water lost for Orville Redenbacher and Signature Select popcorn kernels.\n",
        "\n",
        "<font color='blue'> A confidence interval, in statistics, refers to the probability that a population parameter will fall between a set of values for a certain proportion of times. Using the range generated by the confidence interval it can be inferred that there is a 95\\% probability that the true value falls within that range.\n",
        "\n",
        "<font color='blue'>The confidence interval is defined as:\n",
        "$$\\text{Confidence Interval}=\\bar{X} \\pm \\frac{ts}{\\sqrt{n}}$$\n",
        "\n",
        "<font color='blue'> Where $\\bar{X}$ is the population mean, $t$ is the t-value for the specified confidence interval level, $s$ is the sample standard deviation, and $n$ is the number of samples."
      ],
      "metadata": {
        "id": "a2T9K181s22h"
      }
    },
    {
      "cell_type": "markdown",
      "source": [
        "In the following cell, `a` is equal to the confidence level in decimal form. For example, if we want to determine the confidence interval at the 95% confidence level, we will set `a=0.95`.\n",
        "\n",
        "<font color='green'>Run the next cell by **holding \"Shift + Enter\"** and you should see four lines print that provide us with the confidence intervals we are looking for.\n",
        "\n",
        "<font color='red'>Please note that you will have to edit the confidence interval reported here to the correct number of significant figures in your Post-Lab worksheet. (*We can **only report one uncertain digit** unless that digit is \"1\", then we report two uncertain digits. Our mean can only be reported to the first uncertain digit.*)"
      ],
      "metadata": {
        "id": "0LijqqDPplnK"
      }
    },
    {
      "cell_type": "code",
      "source": [
        "a=0.95 #confidence level\n",
        "n_OR=ndata.get(0) #number of data points\n",
        "print('As a whole,{:3.0f} total Orville Redenbacher kernels successfully popped.'.format(n_OR))\n",
        "t_crit=stats.t.isf((1-a)/2, n_OR-1) #t-crit value for a given confidence level and DOF\n",
        "print('The t-value for the{:3.0f}% confidence interval for all{:3.0f} Orville Redenbacher kernels is {:3.4f}'.format(a*100,n_OR,t_crit))\n",
        "OR_UnpoppedMass_CI=t_crit*OR_Unpopped_StandardDeviation/np.sqrt(n_OR)\n",
        "print('The{:3.0f}% confidence interval for the mass of an unpopped popcorn kernel from Orville Redenbacher is {:3.4f} ± {:3.4f} g.'.format(a*100,OR_WaterLost_AverageMass, OR_UnpoppedMass_CI))\n",
        "OR_PoppedMass_CI=t_crit*OR_Popped_StandardDeviation/np.sqrt(n_OR)\n",
        "print('The{:3.0f}% confidence interval for the mass of a popped popcorn kernel from Orville Redenbacher is {:3.4f} ± {:3.4f} g.'.format(a*100,OR_Popped_AverageMass, OR_PoppedMass_CI))\n",
        "OR_WaterLost_CI=t_crit*OR_WaterLost_StandardDeviation/np.sqrt(n_OR)\n",
        "print('The{:3.0f}% confidence interval for the mass of water lost from a Orville Redenbacher popcorn kernel is {:3.4f} ± {:3.4f} g.'.format(a*100,OR_WaterLost_AverageMass, OR_WaterLost_CI))\n",
        "n_SS=ndata.get(3) #number of data points\n",
        "print('')\n",
        "print('As a whole,{:3.0f} total Signature Select kernels successfully popped.'.format(n_SS))\n",
        "t_crit=stats.t.isf((1-a)/2, n_SS-1) #t-crit value for a given confidence level and DOF\n",
        "print('The t-value for the{:3.0f}% confidence interval for all{:3.0f} Signature Select kernels is {:3.4f}'.format(a*100,n_SS,t_crit))\n",
        "SS_UnpoppedMass_CI=t_crit*SS_Unpopped_StandardDeviation/np.sqrt(n_SS)\n",
        "print('The{:3.0f}% confidence interval for the mass of an unpopped popcorn kernel from Signature Select is {:3.4f} ± {:3.4f} g.'.format(a*100,SS_Unpopped_AverageMass, SS_UnpoppedMass_CI))\n",
        "SS_PoppedMass_CI=t_crit*SS_Popped_StandardDeviation/np.sqrt(n_SS)\n",
        "print('The{:3.0f}% confidence interval for the mass of a popped popcorn kernel from Signature Select is {:3.4f} ± {:3.4f} g.'.format(a*100,SS_Popped_AverageMass, SS_PoppedMass_CI))\n",
        "SS_WaterLost_CI=t_crit*SS_WaterLost_StandardDeviation/np.sqrt(n_SS)\n",
        "print('The{:3.0f}% confidence interval for the mass of water lost from a Signature Select popcorn kernel is {:3.4f} ± {:3.4f} g.'.format(a*100,SS_WaterLost_AverageMass, SS_WaterLost_CI))"
      ],
      "metadata": {
        "colab": {
          "base_uri": "https://localhost:8080/"
        },
        "id": "NWHL8mpuUH_1",
        "outputId": "756ad070-9c6e-48e2-ff69-6778bb51b0e2"
      },
      "execution_count": 83,
      "outputs": [
        {
          "output_type": "stream",
          "name": "stdout",
          "text": [
            "As a whole, 55 total Orville Redenbacher kernels successfully popped.\n",
            "The t-value for the 95% confidence interval for all 55 Orville Redenbacher kernels is 2.0049\n",
            "The 95% confidence interval for the mass of an unpopped popcorn kernel from Orville Redenbacher is 0.0195 ± 0.0080 g.\n",
            "The 95% confidence interval for the mass of a popped popcorn kernel from Orville Redenbacher is 0.1511 ± 0.0081 g.\n",
            "The 95% confidence interval for the mass of water lost from a Orville Redenbacher popcorn kernel is 0.0195 ± 0.0025 g.\n",
            "\n",
            "As a whole, 65 total Signature Select kernels successfully popped.\n",
            "The t-value for the 95% confidence interval for all 65 Signature Select kernels is 1.9977\n",
            "The 95% confidence interval for the mass of an unpopped popcorn kernel from Signature Select is 0.1411 ± 0.0068 g.\n",
            "The 95% confidence interval for the mass of a popped popcorn kernel from Signature Select is 0.1281 ± 0.0062 g.\n",
            "The 95% confidence interval for the mass of water lost from a Signature Select popcorn kernel is 0.0130 ± 0.0008 g.\n"
          ]
        }
      ]
    },
    {
      "cell_type": "markdown",
      "source": [
        "# Part Two\n"
      ],
      "metadata": {
        "id": "j6Ft7DBatEzE"
      }
    },
    {
      "cell_type": "markdown",
      "source": [
        "Now let's determine if our popcorn kernels follow a normal distribution.\n",
        "\n",
        "<font color='blue'>A normal distribution follows the equation\n",
        "$$f(x)=\\frac{1}{\\sigma \\sqrt{2\\pi}}e^{-\\frac{1}{2}(\\frac{x-\\mu}{\\sigma})^2}$$\n",
        "<font color='blue'> Where $\\sigma$ is the population standard deviation and $\\mu$ is the population mean.\n",
        "The general shape of a normal distribution is a \"bell-shaped curve\" as shown below.\n",
        "\n",
        "\n",
        "![Normal-Distribution-768x438.png](data:image/png;base64,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)\n"
      ],
      "metadata": {
        "id": "CVxNaCh03SLW"
      }
    },
    {
      "cell_type": "markdown",
      "source": [
        "Let's see if the kernels were normally distributed. In the graphs you will generate below, a histogram of the masses of each type of kernel will be generated in gray bars. On top of each histogram you will see a red curve, which represents the normal distribution of the data using the average and standard deviation of the mass.\n",
        "\n",
        "<font color='green'>Run the next cell by **holding \"Shift + Enter\"** and you should see two histograms, one for unpopped kernels and another for popped kernels.\n",
        "\n",
        "<font color='green'>Be sure to add a descriptive plot title, x-axis label, and y-axis label.\n",
        "\n",
        "\n",
        "<font color='red'>Try changing the number of bins `n_bins` to see how it changes the histograms.\n",
        "\n",
        "*Hint: The number of bins provided may not be the best way to view the data.*</font>"
      ],
      "metadata": {
        "id": "MDYICaWQa8Q6"
      }
    },
    {
      "cell_type": "code",
      "source": [
        "n_bins = 20\n",
        "fig, axs = plt.subplots(2, 2, sharey=True, tight_layout=True)\n",
        "xg=np.linspace(np.min(data),np.max(data),100)\n",
        "\n",
        "#Orville Redenbacher Unpopped Histogram\n",
        "plt.subplot(2,2,1)\n",
        "plt.hist(OR_Unpopped, bins=n_bins, color = \"gray\")\n",
        "AU_gaussian = 1.0/np.sqrt(2*np.pi*OR_Unpopped_StandardDeviation**2)*np.exp((-0.5*(xg-OR_Unpopped_AverageMass)**2)/(OR_Unpopped_StandardDeviation**2))\n",
        "plt.plot(xg,AU_gaussian,'r')\n",
        "plt.title(\"ADD TITLE HERE\")\n",
        "plt.xlabel(\"X-AXIS LABEL\")\n",
        "plt.ylabel(\"Y-AXIS LABEL\")\n",
        "\n",
        "#Orville Redenbacher Popped Histogram\n",
        "plt.subplot(2,2,2)\n",
        "plt.hist(OR_Popped, bins=n_bins, color = \"gray\")\n",
        "AP_gaussian = 1.0/np.sqrt(2*np.pi*OR_Popped_StandardDeviation**2)*np.exp((-0.5*(xg-OR_Popped_AverageMass)**2)/(OR_Popped_StandardDeviation**2))\n",
        "plt.plot(xg,AP_gaussian,'r')\n",
        "plt.title(\"ADD TITLE HERE\")\n",
        "plt.xlabel(\"X-AXIS LABEL\")\n",
        "plt.ylabel(\"Y-AXIS LABEL\")\n",
        "\n",
        "#Signature Select Unpopped Histogram\n",
        "plt.subplot(2,2,3)\n",
        "plt.hist(SS_Unpopped, bins=n_bins, color = \"gray\")\n",
        "BU_gaussian = 1.0/np.sqrt(2*np.pi*SS_Unpopped_StandardDeviation**2)*np.exp((-0.5*(xg-SS_Unpopped_AverageMass)**2)/(SS_Unpopped_StandardDeviation**2))\n",
        "plt.plot(xg,BU_gaussian,'r')\n",
        "plt.title(\"ADD TITLE HERE\")\n",
        "plt.xlabel(\"X-AXIS LABEL\")\n",
        "plt.ylabel(\"Y-AXIS LABEL\")\n",
        "\n",
        "#Signature Select Popped Histogram\n",
        "plt.subplot(2,2,4)\n",
        "plt.hist(SS_Popped, bins=n_bins, color = \"gray\")\n",
        "BP_gaussian = 1.0/np.sqrt(2*np.pi*SS_Popped_StandardDeviation**2)*np.exp((-0.5*(xg-SS_Popped_AverageMass)**2)/(SS_Popped_StandardDeviation**2))\n",
        "plt.plot(xg,BP_gaussian,'r')\n",
        "plt.title(\"ADD TITLE HERE\")\n",
        "plt.xlabel(\"X-AXIS LABEL\")\n",
        "plt.ylabel(\"Y-AXIS LABEL\")"
      ],
      "metadata": {
        "colab": {
          "base_uri": "https://localhost:8080/",
          "height": 594
        },
        "id": "bpJAzbSOsiqW",
        "outputId": "ce1661d5-9346-4788-9668-755ffb79b3d6"
      },
      "execution_count": 19,
      "outputs": [
        {
          "output_type": "stream",
          "name": "stderr",
          "text": [
            "/usr/local/lib/python3.10/dist-packages/numpy/core/fromnumeric.py:84: FutureWarning: In a future version, DataFrame.min(axis=None) will return a scalar min over the entire DataFrame. To retain the old behavior, use 'frame.min(axis=0)' or just 'frame.min()'\n",
            "  return reduction(axis=axis, out=out, **passkwargs)\n",
            "/usr/local/lib/python3.10/dist-packages/numpy/core/fromnumeric.py:84: FutureWarning: In a future version, DataFrame.max(axis=None) will return a scalar max over the entire DataFrame. To retain the old behavior, use 'frame.max(axis=0)' or just 'frame.max()'\n",
            "  return reduction(axis=axis, out=out, **passkwargs)\n"
          ]
        },
        {
          "output_type": "execute_result",
          "data": {
            "text/plain": [
              "Text(0, 0.5, 'Y-AXIS LABEL')"
            ]
          },
          "metadata": {},
          "execution_count": 19
        },
        {
          "output_type": "display_data",
          "data": {
            "text/plain": [
              "<Figure size 640x480 with 4 Axes>"
            ],
            "image/png": "[encoded data removed]"
          },
          "metadata": {}
        }
      ]
    },
    {
      "cell_type": "markdown",
      "source": [
        "<font color='green'>Once the figures are ready to save, **right-click** on the image above and select **Save Image As**. Save this image to your computer with a meaningful file name so that you can upload it to Gradescope later."
      ],
      "metadata": {
        "id": "auw3n161uupe"
      }
    },
    {
      "cell_type": "markdown",
      "source": [
        "Let's compare the unpopped and popped kernels for Orville Redenbacher and Signature Select by plotting the histograms on top of each other.\n",
        "\n",
        "<font color='green'>Run the next cell by **holding \"Shift + Enter\"** and you should see two histograms, one for unpopped kernels and another for popped kernels.\n",
        "\n",
        "<font color='green'>Be sure to add a descriptive plot title, x-axis label, and y-axis label.\n",
        "\n",
        "\n",
        "<font color='red'>Try changing the number of bins `n_bins` to see how it changes the histograms.\n",
        "\n",
        "*Hint: The number of bins provided may not be the best way to view the data.*</font>"
      ],
      "metadata": {
        "id": "6_Dy4ngrtrqo"
      }
    },
    {
      "cell_type": "code",
      "source": [
        "n_bins = 20\n",
        "fig, axs = plt.subplots(1,2, sharey=True, tight_layout=True)\n",
        "#Plotting Unpopped Kernel Histogram\n",
        "plt.subplot(221)\n",
        "plt.hist(OR_Unpopped, bins=n_bins, label='OR', color = \"gold\", alpha = 0.8) #Orville Redenbacher Unpopped Data\n",
        "plt.hist(SS_Unpopped, bins=n_bins, label='SS', color = \"steelblue\", alpha = 0.8) #Signature Select Unpopped Data\n",
        "plt.legend(loc=\"best\")\n",
        "plt.title(\"ADD TITLE HERE\")\n",
        "plt.xlabel(\"X-AXIS LABEL\")\n",
        "plt.ylabel(\"Y-AXIS LABEL\")\n",
        "\n",
        "#Plotting Popped Kernel Histogram\n",
        "plt.subplot(222)\n",
        "plt.hist(OR_Popped, bins=n_bins, label='OR', color = \"gold\", alpha = 0.8) #Orville Redenbacher Popped Data\n",
        "plt.hist(SS_Popped, bins=n_bins, label='SS', color = \"steelblue\", alpha = 0.8) #Signature Select Popped Data\n",
        "plt.legend(loc=\"best\")\n",
        "plt.title(\"ADD TITLE HERE\")\n",
        "plt.xlabel(\"X-AXIS LABEL\")\n",
        "plt.ylabel(\"Y-AXIS LABEL\")"
      ],
      "metadata": {
        "colab": {
          "base_uri": "https://localhost:8080/",
          "height": 394
        },
        "id": "cxpZMi35IzCD",
        "outputId": "fee76822-85a8-46fe-d481-ad555d1ca3d0"
      },
      "execution_count": null,
      "outputs": [
        {
          "output_type": "stream",
          "name": "stderr",
          "text": [
            "<ipython-input-11-fed38a2bccda>:4: MatplotlibDeprecationWarning: Auto-removal of overlapping axes is deprecated since 3.6 and will be removed two minor releases later; explicitly call ax.remove() as needed.\n",
            "  plt.subplot(221)\n",
            "<ipython-input-11-fed38a2bccda>:13: MatplotlibDeprecationWarning: Auto-removal of overlapping axes is deprecated since 3.6 and will be removed two minor releases later; explicitly call ax.remove() as needed.\n",
            "  plt.subplot(222)\n"
          ]
        },
        {
          "output_type": "execute_result",
          "data": {
            "text/plain": [
              "Text(0, 0.5, 'Y-AXIS LABEL')"
            ]
          },
          "metadata": {},
          "execution_count": 11
        },
        {
          "output_type": "display_data",
          "data": {
            "text/plain": [
              "<Figure size 640x480 with 2 Axes>"
            ],
            "image/png": "[encoded data removed]"
          },
          "metadata": {}
        }
      ]
    },
    {
      "cell_type": "markdown",
      "source": [
        "<font color='green'>Once the histograms are ready to save, **right-click** on the image above and select **Save Image As**. Save this image to your computer with a meaningful file name so that you can upload it to Gradescope later."
      ],
      "metadata": {
        "id": "LTbF-KfOH_Ux"
      }
    },
    {
      "cell_type": "markdown",
      "source": [
        "Now let's compare the unpopped and popped kernels for each brand by plotting the histograms on top of each other.\n",
        "\n",
        "<font color='green'>Run the next cell by **holding \"Shift + Enter\"** and you should see two histograms, one for Orville Redenbacher and another for Signature Select.\n",
        "\n",
        "<font color='green'>Be sure to add a descriptive plot title, x-axis label, and y-axis label.\n",
        "\n",
        "\n",
        "<font color='red'>Try changing the number of bins `n_bins` to see how it changes the histograms.\n",
        "\n",
        "*Hint: The number of bins provided may not be the best way to view the data.*</font>"
      ],
      "metadata": {
        "id": "ojCUhswzKdCc"
      }
    },
    {
      "cell_type": "code",
      "source": [
        "n_bins = 20\n",
        "fig, axs = plt.subplots(1,2, sharey=True, tight_layout=True)\n",
        "#Plotting Orville Redenbacher Histogram\n",
        "plt.subplot(221)\n",
        "plt.hist(OR_Unpopped, bins=n_bins, label='unpopped', color = \"slategray\", alpha = 0.8) #Orville Redenbacher Unpopped Data\n",
        "plt.hist(OR_Popped, bins=n_bins, label='popped', color = \"tomato\", alpha = 0.8) #Orville Redenbacher Popped Data\n",
        "plt.legend(loc=\"best\")\n",
        "plt.title(\"ADD TITLE HERE\")\n",
        "plt.xlabel(\"X-AXIS LABEL\")\n",
        "plt.ylabel(\"Y-AXIS LABEL\")\n",
        "\n",
        "#Plotting Signature Select Histogram\n",
        "plt.subplot(222)\n",
        "plt.hist(SS_Unpopped, bins=n_bins, label='unpopped', color = \"slategray\", alpha = 0.8) #Signature Select Unpopped Data\n",
        "plt.hist(SS_Popped, bins=n_bins, label='popped', color = \"tomato\", alpha = 0.8) #Signature Select Popped Data\n",
        "plt.legend(loc=\"best\")\n",
        "plt.title(\"ADD TITLE HERE\")\n",
        "plt.xlabel(\"X-AXIS LABEL\")\n",
        "plt.ylabel(\"Y-AXIS LABEL\")"
      ],
      "metadata": {
        "colab": {
          "base_uri": "https://localhost:8080/",
          "height": 394
        },
        "id": "3vTi704XKw63",
        "outputId": "164d4f17-b901-4110-e7df-9507f7edfa83"
      },
      "execution_count": null,
      "outputs": [
        {
          "output_type": "stream",
          "name": "stderr",
          "text": [
            "<ipython-input-29-b3ffe507cd5d>:4: MatplotlibDeprecationWarning: Auto-removal of overlapping axes is deprecated since 3.6 and will be removed two minor releases later; explicitly call ax.remove() as needed.\n",
            "  plt.subplot(221)\n",
            "<ipython-input-29-b3ffe507cd5d>:13: MatplotlibDeprecationWarning: Auto-removal of overlapping axes is deprecated since 3.6 and will be removed two minor releases later; explicitly call ax.remove() as needed.\n",
            "  plt.subplot(222)\n"
          ]
        },
        {
          "output_type": "execute_result",
          "data": {
            "text/plain": [
              "Text(0, 0.5, 'Y-AXIS LABEL')"
            ]
          },
          "metadata": {},
          "execution_count": 29
        },
        {
          "output_type": "display_data",
          "data": {
            "text/plain": [
              "<Figure size 640x480 with 2 Axes>"
            ],
            "image/png": "[encoded data removed]"
          },
          "metadata": {}
        }
      ]
    },
    {
      "cell_type": "markdown",
      "source": [
        "<font color='green'>Once the histograms are ready to save, **right-click** on the image above and select **Save Image As**. Save this image to your computer with a meaningful file name so that you can upload it to Gradescope later."
      ],
      "metadata": {
        "id": "TgWm2neJWq72"
      }
    },
    {
      "cell_type": "markdown",
      "source": [
        "Now let's compare the amount of water lost during popping for each popcorn brand.\n"
      ],
      "metadata": {
        "id": "vnyPuOOPOElN"
      }
    },
    {
      "cell_type": "code",
      "source": [
        "n_bins = 20\n",
        "plt.hist(OR_WaterLost, bins=n_bins, label='OR', color = \"gold\", alpha = 0.8) #Orville Redenbacher Water Lost Data\n",
        "plt.hist(SS_WaterLost, bins=n_bins, label='SS', color = \"steelblue\", alpha = 0.8) #Signature Select Water Lost Data\n",
        "plt.legend(loc=\"best\")\n",
        "plt.title(\"ADD TITLE HERE\")\n",
        "plt.xlabel(\"X-AXIS LABEL\")\n",
        "plt.ylabel(\"Y-AXIS LABEL\")"
      ],
      "metadata": {
        "colab": {
          "base_uri": "https://localhost:8080/",
          "height": 489
        },
        "id": "tUZWuRJPOMZu",
        "outputId": "0426e1fa-b0a2-464c-9b61-3cec5feb091e"
      },
      "execution_count": null,
      "outputs": [
        {
          "output_type": "execute_result",
          "data": {
            "text/plain": [
              "Text(0, 0.5, 'Y-AXIS LABEL')"
            ]
          },
          "metadata": {},
          "execution_count": 28
        },
        {
          "output_type": "display_data",
          "data": {
            "text/plain": [
              "<Figure size 640x480 with 1 Axes>"
            ],
            "image/png": "[encoded data removed]"
          },
          "metadata": {}
        }
      ]
    },
    {
      "cell_type": "markdown",
      "source": [
        "<font color='green'>Once the histogram is ready to save, **right-click** on the image above and select **Save Image As**. Save this image to your computer with a meaningful file name so that you can upload it to Gradescope later."
      ],
      "metadata": {
        "id": "NVGGeqyfWs-a"
      }
    },
    {
      "cell_type": "markdown",
      "source": [
        "# Part Three\n"
      ],
      "metadata": {
        "id": "Juluf8uAvMD7"
      }
    },
    {
      "cell_type": "markdown",
      "source": [
        "Now that you have qualitatively evaluated the data, let's run some statistical tests to see if there is a significant difference between Orville Redenbacher and Signature Select kernel masses."
      ],
      "metadata": {
        "id": "yA1kaeAuu4go"
      }
    },
    {
      "cell_type": "markdown",
      "source": [
        "The data we collected is known as an unpaired data set, since the Orville Redenbacher and Signature Select kernels are not directly paired to one another. If we were to compare the masses of unpopped and popped kernels in each brand, this would be considered a paired data set."
      ],
      "metadata": {
        "id": "p0Z8ZXwLvXZd"
      }
    },
    {
      "cell_type": "markdown",
      "source": [
        "<font color='blue'> For an unpaired data set, we set a \"null hypothesis\" ($H_o$) that the average mass of the Orville Redenbacher kernels is equal to the average mass of the Signature Select kernel mass, with an \"alternative hypothesis\" ($H_A$) that the average mass is unequal.\n",
        "\n",
        "<font color='blue'> $$H_o:\\bar{X}_{OR}=\\bar{X}_{SS}$$\n",
        "\n",
        "<font color='blue'> $$H_A:\\bar{X}_{OR}\\neq\\bar{X}_{SS}$$\n",
        "\n",
        "Now, in order to determine which hypothesis applies to our dataset, we need to perform some calculations."
      ],
      "metadata": {
        "id": "TqhcloNVvpYd"
      }
    },
    {
      "cell_type": "markdown",
      "source": [
        "Since this is an unpaired data set, we first need to determine the degrees of freedom for the system. There are two ways we can determine the degrees of freedome for the system.\n",
        "\n",
        "<font color='purple'> 1. If the variances are statistically equivalent between Orville Redenbacher and Signature Select kernels,\n",
        "<font color='purple'>$$\\text{DOF}=n_{OR}+n_{SS}-2$$.\n",
        "\n",
        "\n",
        "<font color='orange'>2. If the variances are statistically different between Orville Redenbacher and Signature Select kernels\n",
        "<font color='orange'> $$\\text{DOF}=\\frac{(\\frac{s_{OR}^2}{n_{OR}}+\\frac{s_{SS}^2}{n_{SS}})^2}{\\frac{s_{OR}^2}{n_{OR}^2(n_{OR}-1)}+\\frac{s_{SS}^2}{n_{SS}^2(n_{SS}-1)}}$$. *round to the nearest integer\n",
        "\n",
        "\n",
        "<font color='blue'> Where $s_{OR}$ and $s_{SS}$ are the standard deviations of the samples of Orville Redenbacher and Signature Select kernels, respectively, and $n_{OR}$ and $n_{SS}$ are the number of  Orville Redenbacher and Signature Select kernels, respectively."
      ],
      "metadata": {
        "id": "H6wluSI3yOUb"
      }
    },
    {
      "cell_type": "markdown",
      "source": [
        "First let's determine which method of determining our DOF is applicable, by perfomring an F-test. Using and F-test we are determining whether the standard deviations between Orville Redenbacher and Signature Select kernels is statistically equivalent."
      ],
      "metadata": {
        "id": "MTWfCAxp0Dvq"
      }
    },
    {
      "cell_type": "code",
      "source": [
        "f_exp=(OR_Unpopped_StandardDeviation)/(SS_Unpopped_StandardDeviation)\n",
        "f_crit=stats.f.ppf(0.05, n_OR-1, n_SS-1)\n",
        "print(\"The value for F-exp for unpopped kernels is {:3.4f} \".format(f_exp))\n",
        "print(\"The value for F-crit for unpopped kernels is {:3.4f} \".format(f_crit))"
      ],
      "metadata": {
        "colab": {
          "base_uri": "https://localhost:8080/"
        },
        "id": "he7wWjNq13-d",
        "outputId": "0b5c09bf-8023-4b69-b2b6-98d9cb15cfbf"
      },
      "execution_count": 89,
      "outputs": [
        {
          "output_type": "stream",
          "name": "stdout",
          "text": [
            "The value for F-exp for unpopped kernels is 1.0767 \n",
            "The value for F-crit for unpopped kernels is 0.6453 \n"
          ]
        }
      ]
    },
    {
      "cell_type": "markdown",
      "source": [
        "Using the results for the F-test you performed above, if $F_{exp}<F_{crit}$ then we can assume the two standard deviations are statistically equivalent and we can use the first method of determining the DOF.\n",
        "However, if $F_{exp}>F_{crit}$ then we must assume the two standard deviations are statistically unequivalent and we must use the second method of determining the DOF."
      ],
      "metadata": {
        "id": "Y6w8scVO3HnV"
      }
    },
    {
      "cell_type": "markdown",
      "source": [
        "### <font color='purple'> DOF Method 1"
      ],
      "metadata": {
        "id": "1QzRQOK_3hnH"
      }
    },
    {
      "cell_type": "code",
      "source": [
        "DOF=n_OR+n_SS-2\n",
        "print(\"The degrees of freedom is equal to {:3.0f}. \".format(DOF))"
      ],
      "metadata": {
        "colab": {
          "base_uri": "https://localhost:8080/"
        },
        "id": "rydGj98s3gtw",
        "outputId": "6886cbfe-519d-4a6c-c4d2-d0a3234df234"
      },
      "execution_count": 85,
      "outputs": [
        {
          "output_type": "stream",
          "name": "stdout",
          "text": [
            "The degrees of freedom is equal to 118 \n"
          ]
        }
      ]
    },
    {
      "cell_type": "markdown",
      "source": [
        "### <font color='orange'> DOF Method 2"
      ],
      "metadata": {
        "id": "sEGbsf5o3kHo"
      }
    },
    {
      "cell_type": "code",
      "source": [
        "OR_Unpopped_Variance=OR_Unpopped_StandardDeviation**2\n",
        "SS_Unpopped_Variance=SS_Unpopped_StandardDeviation**2\n",
        "DOF=(((OR_Unpopped_Variance/n_OR)+(SS_Unpopped_Variance/n_SS))**2)/((OR_Unpopped_Variance**2/(n_OR**2*(n_OR-1)))+(SS_Unpopped_Variance**2/(n_SS**2*(n_SS-1))))\n",
        "print(\"The degrees of freedom is equal to {:3.3f}. \".format(DOF))"
      ],
      "metadata": {
        "colab": {
          "base_uri": "https://localhost:8080/"
        },
        "id": "Hm7lMmsH32Sh",
        "outputId": "cc28b182-8ec2-4c1f-82a8-e0ce7b76518f"
      },
      "execution_count": 84,
      "outputs": [
        {
          "output_type": "stream",
          "name": "stdout",
          "text": [
            "The degrees of freedom is equal to 111.482 \n"
          ]
        }
      ]
    },
    {
      "cell_type": "markdown",
      "source": [
        "Now we can perform a t-test. Depending on which method you used to determine your DOF, there will be a different t-test to perform."
      ],
      "metadata": {
        "id": "pB5uJ_dq7Wku"
      }
    },
    {
      "cell_type": "markdown",
      "source": [
        "### <font color='purple'> If you used DOF Method 1 follow this equation\n"
      ],
      "metadata": {
        "id": "ArR8NZaa7eiw"
      }
    },
    {
      "cell_type": "markdown",
      "source": [
        "Start by changing the value ``x`` in ``DOF=x`` to the degrees of freedom you determined above."
      ],
      "metadata": {
        "id": "QZmhMiCQ9IrH"
      }
    },
    {
      "cell_type": "code",
      "source": [
        "DOF=x\n",
        "s_pool=np.sqrt(((n_OR-1)*(OR_Unpopped_Variance)+(n_SS-1)*(SS_Unpopped_Variance))/(n_OR+n_SS-2))\n",
        "t_exp=np.abs(OR_Unpopped_AverageMass-SS_Unpopped_AverageMass)/(s_pool)*np.sqrt((n_OR*n_SS)/(n_OR+n_SS))\n",
        "t_crit=stats.t.ppf(0.95, DOF)\n",
        "print(\"The t-exp value is equal to {:3.3f}, and the t-critical value is {:3.3f}. \".format(t_exp, t_crit))"
      ],
      "metadata": {
        "colab": {
          "base_uri": "https://localhost:8080/"
        },
        "id": "Lp5DSnU57nlC",
        "outputId": "2c5b1793-5a29-4c0e-d778-3e45342b7859"
      },
      "execution_count": 86,
      "outputs": [
        {
          "output_type": "stream",
          "name": "stdout",
          "text": [
            "The t-exp value is equal to 5.666, and the t-critical value is 1.659. \n"
          ]
        }
      ]
    },
    {
      "cell_type": "markdown",
      "source": [
        "If $t_{exp}<t_{crit}$ we accept the null hypothesis ($H_o$). If $t_{exp}>t_{crit}$ we reject the null hypothesis ($H_o$) and thus accept the alternative hypothesis ($H_A$)."
      ],
      "metadata": {
        "id": "qzg0X3vg9jvP"
      }
    },
    {
      "cell_type": "markdown",
      "source": [
        "### <font color='orange'> If you used DOF Method 2 follow this equation\n"
      ],
      "metadata": {
        "id": "jHE9wevq7l2Q"
      }
    },
    {
      "cell_type": "markdown",
      "source": [
        "Start by changing the value ``x`` in ``DOF=x`` to the degrees of freedom you determined above."
      ],
      "metadata": {
        "id": "lpJdHq87-bx8"
      }
    },
    {
      "cell_type": "code",
      "source": [
        "DOF=x\n",
        "t_exp=np.abs(OR_Unpopped_AverageMass-SS_Unpopped_AverageMass)/(np.sqrt((OR_Unpopped_Variance)/(n_OR)+(SS_Unpopped_Variance)/(n_SS)))\n",
        "t_crit=stats.t.ppf(0.95, DOF)\n",
        "print(\"The t-exp value is equal to {:3.3f}, and the t-critical value is {:3.3f}. \".format(t_exp, t_crit))"
      ],
      "metadata": {
        "colab": {
          "base_uri": "https://localhost:8080/"
        },
        "id": "jNCx-6jh-caZ",
        "outputId": "0feeb68c-1fc4-4c94-fba7-2bbea16f0834"
      },
      "execution_count": 87,
      "outputs": [
        {
          "output_type": "stream",
          "name": "stdout",
          "text": [
            "The t-exp value is equal to 5.630, and the t-critical value is 1.659. \n"
          ]
        }
      ]
    },
    {
      "cell_type": "markdown",
      "source": [
        "If $t_{exp}<t_{crit}$ we accept the null hypothesis ($H_o$). If $t_{exp}>t_{crit}$ we reject the null hypothesis ($H_o$) and thus accept the alternative hypothesis ($H_A$)."
      ],
      "metadata": {
        "id": "GnY91f-h_W7-"
      }
    },
    {
      "cell_type": "markdown",
      "source": [
        "#Part Four"
      ],
      "metadata": {
        "id": "7tDaSn0q_cBb"
      }
    },
    {
      "cell_type": "markdown",
      "source": [
        "Now let's repeat this process for the popped kernels.\n",
        "\n",
        "Since this is an unpaired data set, we first need to determine the degrees of freedom for the system. There are two ways we can determine the degrees of freedome for the system.\n",
        "\n",
        "<font color='purple'> 1. If the variances are statistically equivalent between Orville Redenbacher and Signature Select kernels,\n",
        "<font color='purple'>$$\\text{DOF}=n_{OR}+n_{SS}-2$$\n",
        "\n",
        "\n",
        "<font color='orange'>2. If the variances are statistically different between Orville Redenbacher and Signature Select kernels\n",
        "<font color='orange'> $$\\text{DOF}=\\frac{(\\frac{s_{OR}^2}{n_{OR}}+\\frac{s_{SS}^2}{n_{SS}})^2}{\\frac{s_{OR}^2}{n_{OR}^2(n_{OR}-1)}+\\frac{s_{SS}^2}{n_{SS}^2(n_{SS}-1)}}$$. *round to the nearest integer\n",
        "\n",
        "\n",
        "<font color='blue'> Where $s_{OR}$ and $s_{SS}$ are the standard deviations of the samples of Orville Redenbacher and Signature Select kernels, respectively, and $n_{OR}$ and $n_{SS}$ are the number of  Orville Redenbacher and Signature Select kernels, respectively."
      ],
      "metadata": {
        "id": "6YCDrU_b_iHZ"
      }
    },
    {
      "cell_type": "code",
      "source": [
        "f_exp=(OR_Popped_StandardDeviation)/(SS_Popped_StandardDeviation)\n",
        "f_crit=stats.f.ppf(0.05, n_OR-1, n_SS-1)\n",
        "print(\"The value for F-exp for popped kernels is {:3.4f} \".format(f_exp))\n",
        "print(\"The value for F-crit for popped kernels is {:3.4f} \".format(f_crit))"
      ],
      "metadata": {
        "colab": {
          "base_uri": "https://localhost:8080/"
        },
        "id": "ubTbn706_tpA",
        "outputId": "0e08b76d-08d8-4924-d0cf-c0c6698d3bc6"
      },
      "execution_count": 88,
      "outputs": [
        {
          "output_type": "stream",
          "name": "stdout",
          "text": [
            "The value for F-exp for popped kernels is 1.1940 \n",
            "The value for F-crit for popped kernels is 0.6453 \n"
          ]
        }
      ]
    },
    {
      "cell_type": "markdown",
      "source": [
        "Using the results for the F-test you performed above, if $F_{exp}<F_{crit}$ then we can assume the two standard deviations are statistically equivalent and we can use the first method of determining the DOF.\n",
        "However, if $F_{exp}>F_{crit}$ then we must assume the two standard deviations are statistically unequivalent and we must use the second method of determining the DOF."
      ],
      "metadata": {
        "id": "-ywWFnZiAjKR"
      }
    },
    {
      "cell_type": "markdown",
      "source": [
        "### <font color='purple'> DOF Method 1"
      ],
      "metadata": {
        "id": "7MfySgks_5xK"
      }
    },
    {
      "cell_type": "code",
      "source": [
        "DOF=n_OR+n_SS-2\n",
        "print(\"The degrees of freedom is equal to {:3.0f} \".format(DOF))"
      ],
      "metadata": {
        "id": "Y68NYw0D_6H0"
      },
      "execution_count": null,
      "outputs": []
    },
    {
      "cell_type": "markdown",
      "source": [
        "### <font color='orange'> DOF Method 2"
      ],
      "metadata": {
        "id": "_9fuC2VX_-DV"
      }
    },
    {
      "cell_type": "code",
      "source": [
        "OR_Popped_Variance=OR_Popped_StandardDeviation**2\n",
        "SS_Popped_Variance=SS_Popped_StandardDeviation**2\n",
        "DOF=(((OR_Popped_Variance/n_OR)+(SS_Unpopped_Variance/n_SS))**2)/((OR_Unpopped_Variance**2/(n_OR**2*(n_OR-1)))+(SS_Unpopped_Variance**2/(n_SS**2*(n_SS-1))))\n",
        "print(\"The degrees of freedom is equal to {:3.3f} \".format(DOF))"
      ],
      "metadata": {
        "colab": {
          "base_uri": "https://localhost:8080/"
        },
        "id": "IOAPwQ11_-OY",
        "outputId": "18f8affe-6318-4f47-efb7-22a819e0779d"
      },
      "execution_count": 90,
      "outputs": [
        {
          "output_type": "stream",
          "name": "stdout",
          "text": [
            "The degrees of freedom is equal to 115.089 \n"
          ]
        }
      ]
    },
    {
      "cell_type": "markdown",
      "source": [
        "### <font color='purple'> If you used DOF Method 1 follow this equation\n"
      ],
      "metadata": {
        "id": "2Mr_5wI6AznM"
      }
    },
    {
      "cell_type": "markdown",
      "source": [
        "Start by changing the value ``x`` in ``DOF=x`` to the degrees of freedom you determined above."
      ],
      "metadata": {
        "id": "dwpPPkIdAznN"
      }
    },
    {
      "cell_type": "code",
      "source": [
        "DOF=x\n",
        "s_pool=np.sqrt(((n_OR-1)*(OR_Popped_Variance)+(n_SS-1)*(SS_Popped_Variance))/(n_OR+n_SS-2))\n",
        "t_exp=np.abs(OR_Popped_AverageMass-SS_Popped_AverageMass)/(s_pool)*np.sqrt((n_OR*n_SS)/(n_OR+n_SS))\n",
        "t_crit=stats.t.ppf(0.95, DOF)\n",
        "print(\"The t-exp value is equal to {:3.3f}, and the t-critical value is {:3.3f}. \".format(t_exp, t_crit))"
      ],
      "metadata": {
        "colab": {
          "base_uri": "https://localhost:8080/"
        },
        "outputId": "99e96706-be73-4cd2-a0c9-b0cb352f9b20",
        "id": "PZsu-Lk0AznN"
      },
      "execution_count": 91,
      "outputs": [
        {
          "output_type": "stream",
          "name": "stdout",
          "text": [
            "The t-exp value is equal to 4.577, and the t-critical value is 1.658. \n"
          ]
        }
      ]
    },
    {
      "cell_type": "markdown",
      "source": [
        "If $t_{exp}<t_{crit}$ we accept the null hypothesis ($H_o$). If $t_{exp}>t_{crit}$ we reject the null hypothesis ($H_o$) and thus accept the alternative hypothesis ($H_A$)."
      ],
      "metadata": {
        "id": "4rmbNXPOAznO"
      }
    },
    {
      "cell_type": "markdown",
      "source": [
        "### <font color='orange'> If you used DOF Method 2 follow this equation\n"
      ],
      "metadata": {
        "id": "EvPmMT2SA_NX"
      }
    },
    {
      "cell_type": "markdown",
      "source": [
        "Start by changing the value ``x`` in ``DOF=x`` to the degrees of freedom you determined above."
      ],
      "metadata": {
        "id": "CPBNnQmJA_NX"
      }
    },
    {
      "cell_type": "code",
      "source": [
        "DOF=x\n",
        "t_exp=np.abs(OR_Popped_AverageMass-SS_Popped_AverageMass)/(np.sqrt((OR_Popped_Variance)/(n_OR)+(SS_Popped_Variance)/(n_SS)))\n",
        "t_crit=stats.t.ppf(0.95, DOF)\n",
        "print(\"The t-exp value is equal to {:3.3f}, and the t-critical value is {:3.3f}. \".format(t_exp, t_crit))"
      ],
      "metadata": {
        "colab": {
          "base_uri": "https://localhost:8080/"
        },
        "outputId": "40419b1c-a457-4872-f327-1556c3b4be5d",
        "id": "iqNyfclJA_NY"
      },
      "execution_count": 92,
      "outputs": [
        {
          "output_type": "stream",
          "name": "stdout",
          "text": [
            "The t-exp value is equal to 4.510, and the t-critical value is 1.658. \n"
          ]
        }
      ]
    },
    {
      "cell_type": "markdown",
      "source": [
        "If $t_{exp}<t_{crit}$ we accept the null hypothesis ($H_o$). If $t_{exp}>t_{crit}$ we reject the null hypothesis ($H_o$) and thus accept the alternative hypothesis ($H_A$)."
      ],
      "metadata": {
        "id": "9ILKxY3hA_NZ"
      }
    },
    {
      "cell_type": "markdown",
      "source": [],
      "metadata": {
        "id": "Zbvydo4lBVtz"
      }
    },
    {
      "cell_type": "markdown",
      "source": [
        "#Part Five"
      ],
      "metadata": {
        "id": "EurlJ9ewBWH1"
      }
    },
    {
      "cell_type": "markdown",
      "source": [
        "Now let's repeat this process for the water lost during popping.\n",
        "\n",
        "Since this is an unpaired data set, we first need to determine the degrees of freedom for the system. There are two ways we can determine the degrees of freedome for the system.\n",
        "\n",
        "<font color='purple'> 1. If the variances are statistically equivalent between Orville Redenbacher and Signature Select kernels,\n",
        "<font color='purple'>$$\\text{DOF}=n_{OR}+n_{SS}-2$$.\n",
        "\n",
        "\n",
        "<font color='orange'>2. If the variances are statistically different between Orville Redenbacher and Signature Select kernels\n",
        "<font color='orange'> $$\\text{DOF}=\\frac{(\\frac{s_{OR}^2}{n_{OR}}+\\frac{s_{SS}^2}{n_{SS}})^2}{\\frac{s_{OR}^2}{n_{OR}^2(n_{OR}-1)}+\\frac{s_{SS}^2}{n_{SS}^2(n_{SS}-1)}}$$. *round to the nearest integer\n",
        "\n",
        "\n",
        "<font color='blue'> Where $s_{OR}$ and $s_{SS}$ are the standard deviations of the samples of Orville Redenbacher and Signature Select kernels, respectively, and $n_{OR}$ and $n_{SS}$ are the number of  Orville Redenbacher and Signature Select kernels, respectively."
      ],
      "metadata": {
        "id": "nDB_TyljBWH1"
      }
    },
    {
      "cell_type": "code",
      "source": [
        "f_exp=(OR_WaterLost_StandardDeviation)/(SS_WaterLost_StandardDeviation)\n",
        "f_crit=stats.f.ppf(0.05, n_OR-1,n_SS-1)\n",
        "print(\"The value for F-exp for water lost is {:3.4f} \".format(f_exp))\n",
        "print(\"The value for F-crit for water lost is {:3.4f} \".format(f_crit))"
      ],
      "metadata": {
        "colab": {
          "base_uri": "https://localhost:8080/"
        },
        "outputId": "8cc0e134-3752-413d-a280-dffeef959ef8",
        "id": "q1GF6Xy9BWH1"
      },
      "execution_count": 93,
      "outputs": [
        {
          "output_type": "stream",
          "name": "stdout",
          "text": [
            "The value for F-exp for water lost is 2.7588 \n",
            "The value for F-crit for water lost is 0.6453 \n"
          ]
        }
      ]
    },
    {
      "cell_type": "markdown",
      "source": [
        "Using the results for the F-test you performed above, if $F_{exp}<F_{crit}$ then we can assume the two standard deviations are statistically equivalent and we can use the first method of determining the DOF.\n",
        "However, if $F_{exp}>F_{crit}$ then we must assume the two standard deviations are statistically unequivalent and we must use the second method of determining the DOF."
      ],
      "metadata": {
        "id": "xVMjnY3xBWH1"
      }
    },
    {
      "cell_type": "markdown",
      "source": [
        "### <font color='purple'> DOF Method 1"
      ],
      "metadata": {
        "id": "PEKYhvNjBWH1"
      }
    },
    {
      "cell_type": "code",
      "source": [
        "DOF=n_OR+n_SS-2\n",
        "print(\"The degrees of freedom is equal to {:3.0f} \".format(DOF))"
      ],
      "metadata": {
        "id": "sjfV2nfGBWH2"
      },
      "execution_count": null,
      "outputs": []
    },
    {
      "cell_type": "markdown",
      "source": [
        "### <font color='orange'> DOF Method 2"
      ],
      "metadata": {
        "id": "8VZdCPdYBWH2"
      }
    },
    {
      "cell_type": "code",
      "source": [
        "OR_WaterLost_Variance=OR_WaterLost_StandardDeviation**2\n",
        "SS_WaterLost_Variance=SS_WaterLost_StandardDeviation**2\n",
        "DOF=(((OR_WaterLost_Variance/n_OR)+(SS_WaterLost_Variance/n_SS))**2)/((OR_WaterLost_Variance**2/(n_OR**2*(n_OR-1)))+(SS_WaterLost_Variance**2/(n_SS**2*(n_SS-1))))\n",
        "print(\"The degrees of freedom is equal to {:3.3f} \".format(DOF))"
      ],
      "metadata": {
        "colab": {
          "base_uri": "https://localhost:8080/"
        },
        "outputId": "80256b7d-1019-4ce2-b72c-1b3b821249da",
        "id": "vY3LQ8u1BWH2"
      },
      "execution_count": 94,
      "outputs": [
        {
          "output_type": "stream",
          "name": "stdout",
          "text": [
            "The degrees of freedom is equal to 65.986 \n"
          ]
        }
      ]
    },
    {
      "cell_type": "markdown",
      "source": [
        "### <font color='purple'> If you used DOF Method 1 follow this equation\n"
      ],
      "metadata": {
        "id": "-3cbTtocBWH2"
      }
    },
    {
      "cell_type": "markdown",
      "source": [
        "Start by changing the value ``x`` in ``DOF=x`` to the degrees of freedom you determined above."
      ],
      "metadata": {
        "id": "WueChEJABWH2"
      }
    },
    {
      "cell_type": "code",
      "source": [
        "DOF=x\n",
        "s_pool=np.sqrt(((n_OR-1)*(OR_WaterLost_Variance)+(n_SS-1)*(SS_WaterLost_Variance))/(n_OR+n_SS-2))\n",
        "t_exp=np.abs(OR_WaterLost_AverageMass-SS_WaterLost_AverageMass)/(s_pool)*np.sqrt((n_OR*n_SS)/(n_OR+n_SS))\n",
        "t_crit=stats.t.ppf(0.95, DOF)\n",
        "print(\"The t-exp value is equal to {:3.3f}, and the t-critical value is {:3.3f}. \".format(t_exp, t_crit))"
      ],
      "metadata": {
        "colab": {
          "base_uri": "https://localhost:8080/"
        },
        "outputId": "f86b08f4-213a-45fd-d86c-8b8d0781dc63",
        "id": "w_rrXdGBBWH2"
      },
      "execution_count": 96,
      "outputs": [
        {
          "output_type": "stream",
          "name": "stdout",
          "text": [
            "The t-exp value is equal to 5.366, and the t-critical value is 1.668. \n"
          ]
        }
      ]
    },
    {
      "cell_type": "markdown",
      "source": [
        "If $t_{exp}<t_{crit}$ we accept the null hypothesis ($H_o$). If $t_{exp}>t_{crit}$ we reject the null hypothesis ($H_o$) and thus accept the alternative hypothesis ($H_A$)."
      ],
      "metadata": {
        "id": "yRnvNwmBBWH3"
      }
    },
    {
      "cell_type": "markdown",
      "source": [
        "### <font color='orange'> If you used DOF Method 2 follow this equation\n"
      ],
      "metadata": {
        "id": "W4y9aaHfBWH3"
      }
    },
    {
      "cell_type": "markdown",
      "source": [
        "Start by changing the value ``x`` in ``DOF=x`` to the degrees of freedom you determined above."
      ],
      "metadata": {
        "id": "FwTDkkHyBWH3"
      }
    },
    {
      "cell_type": "code",
      "source": [
        "DOF=x\n",
        "t_exp=np.abs(OR_WaterLost_AverageMass-SS_WaterLost_AverageMass)/(np.sqrt((OR_WaterLost_Variance)/(n_OR)+(SS_WaterLost_Variance)/(n_SS)))\n",
        "t_crit=stats.t.ppf(0.95, DOF)\n",
        "print(\"The t-exp value is equal to {:3.3f}, and the t-critical value is {:3.3f}. \".format(t_exp, t_crit))"
      ],
      "metadata": {
        "colab": {
          "base_uri": "https://localhost:8080/"
        },
        "outputId": "c4d05a86-ebe4-4bc3-f591-2b174651e4a1",
        "id": "8dvwEXaHBWH3"
      },
      "execution_count": 97,
      "outputs": [
        {
          "output_type": "stream",
          "name": "stdout",
          "text": [
            "The t-exp value is equal to 5.030, and the t-critical value is 1.668. \n"
          ]
        }
      ]
    },
    {
      "cell_type": "markdown",
      "source": [
        "If $t_{exp}<t_{crit}$ we accept the null hypothesis ($H_o$). If $t_{exp}>t_{crit}$ we reject the null hypothesis ($H_o$) and thus accept the alternative hypothesis ($H_A$)."
      ],
      "metadata": {
        "id": "kELauPlZBWH3"
      }
    },
    {
      "cell_type": "markdown",
      "source": [
        "# Part Six\n",
        "\n"
      ],
      "metadata": {
        "id": "Px6v4f7stInE"
      }
    },
    {
      "cell_type": "markdown",
      "source": [
        "Now let's see if there are any outliers in our datasets."
      ],
      "metadata": {
        "id": "RdVtEvSH_jTl"
      }
    },
    {
      "cell_type": "code",
      "source": [
        "OR_UnpoppedOutliers=[]\n",
        "OR_UnpoppedOutliers = grubbs.min_test_outliers(OR_Unpopped, alpha=.05)\n",
        "OR_UnpoppedOutliers = OR_UnpoppedOutliers + grubbs.max_test_outliers(OR_Unpopped, alpha=.05)\n",
        "if OR_UnpoppedOutliers:\n",
        "  print(\"Outliers were detected for Orville Redenbacher Unpopped Kernels.\")\n",
        "  print(OR_UnpoppedOutliers)\n",
        "if not OR_UnpoppedOutliers:\n",
        "  print(\"There are no outliers for Orville Redenbacher Unpopped Kernels.\")"
      ],
      "metadata": {
        "id": "NwyQnxA6tJgl",
        "colab": {
          "base_uri": "https://localhost:8080/"
        },
        "outputId": "158ca5f5-98d2-4e4c-da66-45b01de03661"
      },
      "execution_count": 108,
      "outputs": [
        {
          "output_type": "stream",
          "name": "stdout",
          "text": [
            "There are no outliers for Orville Redenbacher Unpopped Kernels\n"
          ]
        }
      ]
    },
    {
      "cell_type": "code",
      "source": [
        "OR_PoppedOutliers=[]\n",
        "OR_PoppedOutliers = grubbs.min_test_outliers(OR_Popped, alpha=.05)\n",
        "OR_PoppedOutliers = OR_PoppedOutliers + grubbs.max_test_outliers(OR_Popped, alpha=.05)\n",
        "if OR_PoppedOutliers:\n",
        "  print(\"Outliers were detected for Orville Redenbacher Popped Kernels.\")\n",
        "  print(OR_PoppedOutliers)\n",
        "if not OR_PoppedOutliers:\n",
        "  print(\"There are no outliers for Orville Redenbacher Popped Kernels.\")"
      ],
      "metadata": {
        "colab": {
          "base_uri": "https://localhost:8080/"
        },
        "id": "l-8Q6cOj_sE8",
        "outputId": "2c2702a2-e733-474f-d9ab-f4c69fd3508e"
      },
      "execution_count": 109,
      "outputs": [
        {
          "output_type": "stream",
          "name": "stdout",
          "text": [
            "There are no outliers for Orville Redenbacher Popped Kernels.\n"
          ]
        }
      ]
    },
    {
      "cell_type": "code",
      "source": [
        "SS_UnpoppedOutliers=[]\n",
        "SS_UnpoppedOutliers = grubbs.min_test_outliers(SS_Unpopped, alpha=.05)\n",
        "SS_UnpoppedOutliers = SS_UnpoppedOutliers + grubbs.max_test_outliers(SS_Unpopped, alpha=.05)\n",
        "if SS_UnpoppedOutliers:\n",
        "  print(\"Outliers were detected for Signature Select Unpopped Kernels.\")\n",
        "  print(SS_UnpoppedOutliers)\n",
        "if not SS_UnpoppedOutliers:\n",
        "  print(\"There are no outliers for Signature Select Unpopped Kernels.\")"
      ],
      "metadata": {
        "colab": {
          "base_uri": "https://localhost:8080/"
        },
        "id": "ArtC4VdG_2qa",
        "outputId": "d243c9eb-271f-4b2e-deaa-e9f31944a4c1"
      },
      "execution_count": 110,
      "outputs": [
        {
          "output_type": "stream",
          "name": "stdout",
          "text": [
            "There are no outliers for Signature Select Unpopped Kernels.\n"
          ]
        }
      ]
    },
    {
      "cell_type": "code",
      "source": [
        "SS_PoppedOutliers=[]\n",
        "SS_PoppedOutliers = grubbs.min_test_outliers(SS_Popped, alpha=.05)\n",
        "SS_PoppedOutliers = SS_PoppedOutliers + grubbs.max_test_outliers(SS_Popped, alpha=.05)\n",
        "if SS_PoppedOutliers:\n",
        "  print(\"Outliers were detected for Signature Select Popped Kernels.\")\n",
        "  print(SS_PoppedOutliers)\n",
        "if not SS_PoppedOutliers:\n",
        "  print(\"There are no outliers for Signature Select Popped Kernels.\")"
      ],
      "metadata": {
        "colab": {
          "base_uri": "https://localhost:8080/"
        },
        "id": "k6z83jALASea",
        "outputId": "7542ac51-72a7-4f7a-9268-b59877d06c5c"
      },
      "execution_count": 111,
      "outputs": [
        {
          "output_type": "stream",
          "name": "stdout",
          "text": [
            "There are no outliers for Signature Select Popped Kernels.\n"
          ]
        }
      ]
    },
    {
      "cell_type": "code",
      "source": [
        "OR_WaterLostOutliers=[]\n",
        "OR_WaterLostOutliers = grubbs.min_test_outliers(OR_WaterLost, alpha=.05)\n",
        "OR_WaterLostOutliers = OR_WaterLostOutliers + grubbs.max_test_outliers(OR_WaterLost, alpha=.05)\n",
        "if OR_WaterLostOutliers:\n",
        "  print(\"Outliers were detected for the water lost during popping for Orville Redenbacher Kernels.\")\n",
        "  print(OR_WaterLostOutliers)\n",
        "if not OR_WaterLostOutliers:\n",
        "  print(\"There are no outliers for the water lost during popping for Orville Redenbacher Kernels.\")"
      ],
      "metadata": {
        "colab": {
          "base_uri": "https://localhost:8080/"
        },
        "id": "kY69n65IcJWP",
        "outputId": "94cbe975-bb64-4e3d-a434-0b7aecf66f47"
      },
      "execution_count": 112,
      "outputs": [
        {
          "output_type": "stream",
          "name": "stdout",
          "text": [
            "Outliers were detected for the water lost during popping for Orville Redenbacher Kernels.\n",
            "[0.05510000000000001, 0.0436]\n"
          ]
        }
      ]
    },
    {
      "cell_type": "code",
      "source": [
        "SS_WaterLostOutliers=[]\n",
        "SS_WaterLostOutliers = grubbs.min_test_outliers(SS_WaterLost, alpha=.05)\n",
        "SS_WaterLostOutliers = SS_WaterLostOutliers + grubbs.max_test_outliers(SS_WaterLost, alpha=.05)\n",
        "if SS_WaterLostOutliers:\n",
        "  print(\"Outliers were detected for the water lost during popping for Sigature Select Kernels.\")\n",
        "  print(SS_WaterLostOutliers)\n",
        "if not SS_WaterLostOutliers:\n",
        "  print(\"There are no outliers for the water lost during popping for Signature Select Kernels.\")"
      ],
      "metadata": {
        "id": "4lUDG6PPce11",
        "colab": {
          "base_uri": "https://localhost:8080/"
        },
        "outputId": "8118a1d2-0b97-4f71-f867-889712eb515b"
      },
      "execution_count": 113,
      "outputs": [
        {
          "output_type": "stream",
          "name": "stdout",
          "text": [
            "There are no outliers for the water lost during popping for Signature Select Kernels.\n"
          ]
        }
      ]
    },
    {
      "cell_type": "code",
      "source": [],
      "metadata": {
        "id": "0-qEc-Tiujx4"
      },
      "execution_count": null,
      "outputs": []
    }
  ]
}