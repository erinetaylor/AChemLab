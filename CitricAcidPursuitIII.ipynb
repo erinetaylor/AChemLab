{
  "nbformat": 4,
  "nbformat_minor": 0,
  "metadata": {
    "colab": {
      "provenance": [],
      "authorship_tag": "ABX9TyP26SD+dSaPyKFXPLPMXIio"
    },
    "kernelspec": {
      "name": "python3",
      "display_name": "Python 3"
    },
    "language_info": {
      "name": "python"
    }
  },
  "cells": [
    {
      "cell_type": "markdown",
      "source": [
        "# 🍋 CitricAcidPursuit III: Data Analysis of Triprotic Potentiometric Titration\n",
        "\n",
        "Using this **COLAB notebook**, we will upload your personal potentiometric titration data to determine the amount of citric acid in a lime. Along the way you will be able to answer Post Lab questions for Lab 6 - CitricAcidPursuit III : Data Analysis of Triprotic Potentiometric Titration.\n",
        "\n",
        "\n",
        "## Let's get started! 😀"
      ],
      "metadata": {
        "id": "Z5kGf95nVjHX"
      }
    },
    {
      "cell_type": "markdown",
      "source": [
        "Let's start out by uploading our data into this notebook.\n",
        "\n",
        "<font color='green'>Start by executing the code below by clicking on the cell and **holding \"Shift+Enter\"** at the same time.</font>\n",
        "\n",
        "You should see a button appear with the text \"Choose Files\".\n",
        "\n",
        "<font color='green'>**Click on this button** and grab the data (CitricAcidPursuit.csv) you saved earlier.</font>"
      ],
      "metadata": {
        "id": "dlC8Y0SuVsPz"
      }
    },
    {
      "cell_type": "code",
      "source": [
        "import pandas as pd\n",
        "import io\n",
        "import scipy as sc\n",
        "from scipy import stats\n",
        "import numpy as np\n",
        "import matplotlib.pyplot as plt\n",
        "\n",
        "from google.colab import files\n",
        "uploaded = files.upload()"
      ],
      "metadata": {
        "id": "IG3HDd4PVhsq"
      },
      "execution_count": null,
      "outputs": []
    },
    {
      "cell_type": "markdown",
      "source": [
        "⬇️ Please paste all of your \"corrections\" from BuretteCalibrationCorrections.ipynb, in the code space below, and run the cell."
      ],
      "metadata": {
        "id": "MqEC4iBdeI59"
      }
    },
    {
      "cell_type": "code",
      "source": [],
      "metadata": {
        "id": "lQJ4Ltj7ZRf1"
      },
      "execution_count": null,
      "outputs": []
    },
    {
      "cell_type": "markdown",
      "source": [
        "⬆️Please paste all of your \"corrections\" from BuretteCalibrationCorrections.ipynb, in the code space above, and run the cell."
      ],
      "metadata": {
        "id": "BlnFWIDfeP5g"
      }
    },
    {
      "cell_type": "markdown",
      "source": [
        "Now that the csv file has been uploaded, run the cell below this text which will name your file under the name \"data\".\n",
        "\n",
        "<font color='green'>In the cell below, **hold \"Shift + Enter\"** at the same time. This cell should print all of the data in this file.\n",
        "\n",
        "Here we will be able to see the column header names which will be important in the next step\n",
        "\n",
        "<font color='red'>If you have renamed this file, be sure to also **change the name of the file** being called upon as 'CitricAcidPursuit.csv' below.</font>"
      ],
      "metadata": {
        "id": "F1gNmuSEV500"
      }
    },
    {
      "cell_type": "code",
      "source": [
        "df = pd.read_csv(io.BytesIO(uploaded['CitricAcidPursuit.csv']))\n",
        "print(df)\n",
        "data = pd.DataFrame(df, index=None) #rename the dataframe\n",
        "burette_reading=data[\"Burette Reading\"]\n",
        "ndata = data.count(axis=0, level=None, numeric_only=False) #count the number of data points in each dataset (column)\n",
        "ndata=ndata.get(0)"
      ],
      "metadata": {
        "id": "Xg5rXoCGVxi2"
      },
      "execution_count": null,
      "outputs": []
    },
    {
      "cell_type": "markdown",
      "source": [
        "This next cell will account for multiple burette fills. Please still run this code even if you used less than 50 mL for your titration.\n",
        "\n",
        "*Nothing will print after running this code.*"
      ],
      "metadata": {
        "id": "_cRyeNidYQRT"
      }
    },
    {
      "cell_type": "code",
      "source": [
        "first=[]\n",
        "for i in range(0,ndata):\n",
        "  if burette_reading[i]<=50:\n",
        "    first.append(burette_reading[i])\n",
        "first_size=len(first)\n",
        "second=[]\n",
        "for i in range(0,ndata):\n",
        "  if 50<burette_reading[i]<=100:\n",
        "    second.append(burette_reading[i]-50)\n",
        "second_size=len(second)\n",
        "third=[]\n",
        "for i in range(0,ndata):\n",
        "  if burette_reading[i]>100:\n",
        "    third.append(burette_reading[i]-100)\n",
        "third_size=len(third)"
      ],
      "metadata": {
        "id": "I2kZGt6nyWHU"
      },
      "execution_count": null,
      "outputs": []
    },
    {
      "cell_type": "markdown",
      "source": [
        "This next cell will apply your burette corrections for the volume of NaOH delivered during your titration.\n",
        "\n",
        "*Nothing will print after running this code.*"
      ],
      "metadata": {
        "id": "rzZuuF9oYYip"
      }
    },
    {
      "cell_type": "code",
      "source": [
        "pH=data[\"pH\"]\n",
        "\n",
        "volume_delivered=[] #setting up an empty array\n",
        "\n",
        "for i in range(0,first_size):\n",
        "  expected_volume=round(first[i]-first[0],2)\n",
        "  burette_linspace=np.arange(round(first[0],2), round(first[i]+0.01,2), 0.01)\n",
        "  zero_ten_volumes=[]\n",
        "  ten_twenty_volumes=[]\n",
        "  twenty_thirty_volumes=[]\n",
        "  thirty_fourty_volumes=[]\n",
        "  fourty_fifty_volumes=[]\n",
        "  for j in burette_linspace:\n",
        "    if j < 10.01:\n",
        "      zero_ten_volumes.append(j)\n",
        "    elif j < 20.01:\n",
        "      ten_twenty_volumes.append(j)\n",
        "    elif j < 30.01:\n",
        "      twenty_thirty_volumes.append(j)\n",
        "    elif j < 40.01:\n",
        "      thirty_fourty_volumes.append(j)\n",
        "    elif j < 50.00:\n",
        "      fourty_fifty_volumes.append(j)\n",
        "  true_volume=((max(zero_ten_volumes, default=0)-min(zero_ten_volumes, default=0))+(max(zero_ten_volumes, default=0)-min(zero_ten_volumes, default=0))*zero_ten_mL_correction/10)+((max(ten_twenty_volumes, default=0)-min(ten_twenty_volumes, default=0))+(max(ten_twenty_volumes, default=0)-min(ten_twenty_volumes, default=0))*ten_twenty_mL_correction/10)+((max(twenty_thirty_volumes, default=0)-min(twenty_thirty_volumes, default=0))+(max(twenty_thirty_volumes, default=0)-min(twenty_thirty_volumes, default=0))*twenty_thirty_mL_correction/10)+((max(thirty_fourty_volumes, default=0)-min(thirty_fourty_volumes, default=0))+(max(thirty_fourty_volumes, default=0)-min(thirty_fourty_volumes, default=0))*thirty_fourty_mL_correction/10)+((max(fourty_fifty_volumes, default=0)-min(fourty_fifty_volumes, default=0))+(max(fourty_fifty_volumes, default=0)-min(fourty_fifty_volumes, default=0))*fourty_fifty_mL_correction/10)\n",
        "  volume_delivered.append(true_volume) #add this density to the array\n",
        "\n",
        "total_correction=zero_ten_mL_correction+ten_twenty_mL_correction+twenty_thirty_mL_correction+thirty_fourty_mL_correction+fourty_fifty_mL_correction\n",
        "for i in range(0,second_size):\n",
        "  expected_volume=round(second[i]-second[0],2)\n",
        "  burette_linspace=np.arange(round(second[0],2), round(second[i]+0.01,2), 0.01)\n",
        "  zero_ten_volumes=[]\n",
        "  ten_twenty_volumes=[]\n",
        "  twenty_thirty_volumes=[]\n",
        "  thirty_fourty_volumes=[]\n",
        "  fourty_fifty_volumes=[]\n",
        "  for j in burette_linspace:\n",
        "    if j < 10.01:\n",
        "      zero_ten_volumes.append(j)\n",
        "    elif j < 20.01:\n",
        "      ten_twenty_volumes.append(j)\n",
        "    elif j < 30.01:\n",
        "      twenty_thirty_volumes.append(j)\n",
        "    elif j < 40.01:\n",
        "      thirty_fourty_volumes.append(j)\n",
        "    elif j < 50.00:\n",
        "      fourty_fifty_volumes.append(j)\n",
        "  true_volume=(50+total_correction)+((max(zero_ten_volumes, default=0)-min(zero_ten_volumes, default=0))+(max(zero_ten_volumes, default=0)-min(zero_ten_volumes, default=0))*zero_ten_mL_correction/10)+((max(ten_twenty_volumes, default=0)-min(ten_twenty_volumes, default=0))+(max(ten_twenty_volumes, default=0)-min(ten_twenty_volumes, default=0))*ten_twenty_mL_correction/10)+((max(twenty_thirty_volumes, default=0)-min(twenty_thirty_volumes, default=0))+(max(twenty_thirty_volumes, default=0)-min(twenty_thirty_volumes, default=0))*twenty_thirty_mL_correction/10)+((max(thirty_fourty_volumes, default=0)-min(thirty_fourty_volumes, default=0))+(max(thirty_fourty_volumes, default=0)-min(thirty_fourty_volumes, default=0))*thirty_fourty_mL_correction/10)+((max(fourty_fifty_volumes, default=0)-min(fourty_fifty_volumes, default=0))+(max(fourty_fifty_volumes, default=0)-min(fourty_fifty_volumes, default=0))*fourty_fifty_mL_correction/10)\n",
        "  volume_delivered.append(true_volume) #add this density to the array\n",
        "\n",
        "for i in range(0,third_size):\n",
        "  expected_volume=round(third[i]-third[0],2)\n",
        "  burette_linspace=np.arange(round(third[0],2), round(third[i]+0.01,2), 0.01)\n",
        "  zero_ten_volumes=[]\n",
        "  ten_twenty_volumes=[]\n",
        "  twenty_thirty_volumes=[]\n",
        "  thirty_fourty_volumes=[]\n",
        "  fourty_fifty_volumes=[]\n",
        "  for j in burette_linspace:\n",
        "    if j < 10.01:\n",
        "      zero_ten_volumes.append(j)\n",
        "    elif j < 20.01:\n",
        "      ten_twenty_volumes.append(j)\n",
        "    elif j < 30.01:\n",
        "      twenty_thirty_volumes.append(j)\n",
        "    elif j < 40.01:\n",
        "      thirty_fourty_volumes.append(j)\n",
        "    elif j < 50.00:\n",
        "      fourty_fifty_volumes.append(j)\n",
        "  true_volume=(100+2*total_correction)+((max(zero_ten_volumes, default=0)-min(zero_ten_volumes, default=0))+(max(zero_ten_volumes, default=0)-min(zero_ten_volumes, default=0))*zero_ten_mL_correction/10)+((max(ten_twenty_volumes, default=0)-min(ten_twenty_volumes, default=0))+(max(ten_twenty_volumes, default=0)-min(ten_twenty_volumes, default=0))*ten_twenty_mL_correction/10)+((max(twenty_thirty_volumes, default=0)-min(twenty_thirty_volumes, default=0))+(max(twenty_thirty_volumes, default=0)-min(twenty_thirty_volumes, default=0))*twenty_thirty_mL_correction/10)+((max(thirty_fourty_volumes, default=0)-min(thirty_fourty_volumes, default=0))+(max(thirty_fourty_volumes, default=0)-min(thirty_fourty_volumes, default=0))*thirty_fourty_mL_correction/10)+((max(fourty_fifty_volumes, default=0)-min(fourty_fifty_volumes, default=0))+(max(fourty_fifty_volumes, default=0)-min(fourty_fifty_volumes, default=0))*fourty_fifty_mL_correction/10)\n",
        "  volume_delivered.append(true_volume) #add this density to the array"
      ],
      "metadata": {
        "id": "dH9314zcWGIG"
      },
      "execution_count": null,
      "outputs": []
    },
    {
      "cell_type": "markdown",
      "source": [
        "## Plotting Your Titration Curve\n",
        "The code below will print your titration curve as a scatter plot with \"Volume of NaOH Delivered (mL)\" on the x-axis and \"pH\" on the y-axis.\n",
        "\n",
        "<font color='green'> Please **change** the values of  ```x_min, x_max, y_min,``` and ```y_max``` to fit your data.\n",
        "\n",
        "<font color='green'> The value of  ```guess``` represents the datapoint we are interested in tracing. Try playing with **different numbers** to see how this changes your plot.\n",
        "\n"
      ],
      "metadata": {
        "id": "yvfTaunUYwiR"
      }
    },
    {
      "cell_type": "code",
      "source": [
        "guess=1 #use this value to change the position of the line going across the graph\n",
        "x_min=0 #this defines the minimum value that will be plotted on the x-axis of the scatter plot\n",
        "x_max=50 #this defines the maximum value that will be plotted on the x-axis of the scatter plot\n",
        "y_min=0 #this defines the minimum value that will be plotted on the y-axis of the scatter plot\n",
        "y_max=12 #this defines the maximum value that will be plotted on the y-axis of the scatter plot\n",
        "\n",
        "plt.scatter(volume_delivered,pH, color = \"yellowgreen\",edgecolors='black') #this will plot a scatter plot with the volume of NaOH delivered on the x-axis and the pH on the y-axis\n",
        "plt.plot([x_min, x_max], [pH[guess], pH[guess]], color = 'r')\n",
        "plt.plot([volume_delivered[guess],volume_delivered[guess]], [y_min, y_max],  color = 'r')\n",
        "plt.title(\"ADD TITLE HERE\")\n",
        "plt.xlabel(\"X-AXIS LABEL\")\n",
        "plt.ylabel(\"Y-AXIS LABEL\")\n",
        "plt.xlim(x_min,x_max)\n",
        "plt.ylim(y_min,y_max)\n",
        "\n",
        "print(\"The pH at {:3.2f} mL of NaOH delivered is {:3.2f}.\".format(volume_delivered[guess], pH[guess]))\n"
      ],
      "metadata": {
        "id": "qCav7JHxWsd5"
      },
      "execution_count": null,
      "outputs": []
    },
    {
      "cell_type": "markdown",
      "source": [
        "## First Derivative\n",
        "Another method for locating the end point is to plot the first derivative of the titration curve, which gives its slope at each point along the x-axis. Since the slope reaches its maximum value at the inflection point, the first derivative shows a spike at the equivalence point.\n",
        "\n",
        "<font color='green'> Please **change** the values of  ```x_min, x_max, y_min,``` and ```y_max``` to fit your data.\n",
        "\n",
        "<font color='green'> The value of  ```guess``` represents the datapoint we are interested in tracing. Try playing with **different numbers** to see how this changes your plot. Try finding the volume where the first derivative reaches a maximum.\n",
        "\n"
      ],
      "metadata": {
        "id": "hOFVxDbZZnua"
      }
    },
    {
      "cell_type": "markdown",
      "source": [
        "<font color='grey'> *Nothing will print after running this code.*"
      ],
      "metadata": {
        "id": "OJ55mZ17aqwH"
      }
    },
    {
      "cell_type": "code",
      "source": [
        "first_derivative=[]\n",
        "for i in range(1,ndata):\n",
        "  delta_volume=volume_delivered[i]-volume_delivered[i-1]\n",
        "  delta_pH=pH[i]-pH[i-1]\n",
        "  first_der=delta_pH/delta_volume\n",
        "  first_derivative.append(first_der)\n",
        "\n",
        "volume_delivered_first_derivative=volume_delivered[1:]"
      ],
      "metadata": {
        "id": "ARlxmdORT11N"
      },
      "execution_count": null,
      "outputs": []
    },
    {
      "cell_type": "code",
      "source": [
        "guess=1\n",
        "x_min=0 #this defines the minimum value that will be plotted on the x-axis of the scatter plot\n",
        "x_max=50 #this defines the maximum value that will be plotted on the x-axis of the scatter plot\n",
        "y_min=-2 #this defines the minimum value that will be plotted on the y-axis of the scatter plot\n",
        "y_max=2 #this defines the maximum value that will be plotted on the y-axis of the scatter plot\n",
        "\n",
        "plt.scatter(volume_delivered_first_derivative,first_derivative, color = \"yellowgreen\",edgecolors='black')\n",
        "plt.plot([x_min, x_max], [first_derivative[guess], first_derivative[guess]], color = 'r')\n",
        "plt.plot([volume_delivered_first_derivative[guess],volume_delivered_first_derivative[guess]], [y_min, y_max], color = 'r')\n",
        "plt.title(\"ADD TITLE HERE\")\n",
        "plt.xlabel(\"X-AXIS LABEL\")\n",
        "plt.ylabel(\"Y-AXIS LABEL\")\n",
        "plt.xlim(x_min,x_max)\n",
        "plt.ylim(y_min,y_max)\n",
        "\n",
        "print(\"The pH at {:3.2f} mL of NaOH delivered is {:3.2f}.\".format(volume_delivered_first_derivative[guess], pH[guess+1]))"
      ],
      "metadata": {
        "id": "JrMLfDJBa2On"
      },
      "execution_count": null,
      "outputs": []
    },
    {
      "cell_type": "markdown",
      "source": [
        "## Second Derivative\n",
        "Another method for locating the end point is to plot the second derivative of the titration curve. Since the equivalence point is an inflection point, we would expect the equivalence point to intersect the x-axis.\n",
        "\n",
        "<font color='green'> Please **change** the values of  ```x_min, x_max, y_min,``` and ```y_max``` to fit your data.\n",
        "\n",
        "<font color='green'> The value of  ```guess``` represents the datapoint we are interested in tracing. Try playing with **different numbers** to see how this changes your plot. Try finding the volume where the second derivative crosses the x-axis.\n"
      ],
      "metadata": {
        "id": "hKkVXaBaa5Dc"
      }
    },
    {
      "cell_type": "markdown",
      "source": [
        "<font color='grey'> *Nothing will print after running this code.*"
      ],
      "metadata": {
        "id": "H04p00_tbeD8"
      }
    },
    {
      "cell_type": "code",
      "source": [
        "second_derivative=[]\n",
        "for i in range(0,ndata-2):\n",
        "  delta_first=first_derivative[i]-first_derivative[i-1]\n",
        "  delta_pH=pH[i+1]-pH[i]\n",
        "  second_der=delta_pH/delta_first\n",
        "  second_derivative.append(second_der)\n",
        "\n",
        "volume_delivered_second_derivative=volume_delivered[2:]"
      ],
      "metadata": {
        "id": "zkLcvFvFbG3J"
      },
      "execution_count": null,
      "outputs": []
    },
    {
      "cell_type": "code",
      "source": [
        "guess=1\n",
        "x_min=0  #this defines the minimum value that will be plotted on the x-axis of the scatter plot\n",
        "x_max=50 #this defines the maximum value that will be plotted on the x-axis of the scatter plot\n",
        "y_min=-100 #this defines the minimum value that will be plotted on the y-axis of the scatter plot\n",
        "y_max=100  #this defines the maximum value that will be plotted on the y-axis of the scatter plot\n",
        "plt.plot(volume_delivered_second_derivative, second_derivative, \"-k\")\n",
        "plt.plot([x_min, x_max], [second_derivative[guess], second_derivative[guess]], color = 'r')\n",
        "plt.plot([volume_delivered_second_derivative[guess],volume_delivered_second_derivative[guess]], [y_min, y_max], color = 'r')\n",
        "plt.scatter(volume_delivered_second_derivative, second_derivative, color = \"yellowgreen\", edgecolors='black')\n",
        "\n",
        "plt.title(\"ADD TITLE HERE\")\n",
        "plt.xlabel(\"X-AXIS LABEL\")\n",
        "plt.ylabel(\"Y-AXIS LABEL\")\n",
        "plt.xlim(x_min,x_max)\n",
        "plt.ylim(y_min,y_max)\n",
        "\n",
        "print(\"The pH at {:3.2f} mL of NaOH delivered is {:3.2f}.\".format(volume_delivered_second_derivative[guess], pH[guess+2]))"
      ],
      "metadata": {
        "id": "DoatPWDTcb8J"
      },
      "execution_count": null,
      "outputs": []
    },
    {
      "cell_type": "markdown",
      "source": [
        "## Gran Plot\n",
        "A graph of $V_b \\times 10^{-pH}$ vs $V_b$ is called a Gran plot. This graph results in a straight line with a slope of $-K_a$ and an x-intercept of the volume at the equivalence point ($V_e$).\n",
        "\n",
        "The Gran plot uses data from just before the equivalence point ($\\sim 0.8 V_e$) right up to the equivalence point ($V_e$).\n",
        "\n",
        "The beauty of a Gran plot is that it enables use to use data taken before the end point to find the end point. This fuction also works for monoprotic acids as well as polyprotic acids."
      ],
      "metadata": {
        "id": "owudWSAMbkdd"
      }
    },
    {
      "cell_type": "markdown",
      "source": [
        "<font color='green'> Please **change** the value of ```equivalence_point_guess``` to approximate the equivalence point volume determined from the titration curve, first derivative, and second derivative.\n",
        "\n",
        "You can also change ```percentage``` to or remove data points. ```percentage=0.8``` will include data points from 80% of the ```equivalence_point_guess``` to ```equivalence_point_guess```."
      ],
      "metadata": {
        "id": "nrkWbZGH7wvT"
      }
    },
    {
      "cell_type": "code",
      "source": [
        "equivalence_point_guess=0\n",
        "percentage=0.8\n",
        "\n",
        "gran_volume_delivered=[]\n",
        "gran_y_axis=[]\n",
        "for i in range(0,ndata):\n",
        "  if percentage*equivalence_point_guess<volume_delivered[i]<equivalence_point_guess:\n",
        "    gran=volume_delivered[i]*10**(-pH[i])\n",
        "    gran_y_axis.append(gran)\n",
        "    gran_volume_delivered.append(volume_delivered[i])\n",
        "\n",
        "m, b, r_value, p_value, std_err = stats.linregress(gran_volume_delivered, gran_y_axis)\n",
        "\n",
        "fit=[]\n",
        "for i in range(0,ndata):\n",
        "  fit_gran=m*volume_delivered[i]+b\n",
        "  fit.append(fit_gran)\n",
        "\n",
        "\n",
        "x_min=0  #this defines the minimum value that will be plotted on the x-axis of the scatter plot\n",
        "x_max=50 #this defines the maximum value that will be plotted on the x-axis of the scatter plot\n",
        "y_min=0 #this defines the minimum value that will be plotted on the y-axis of the scatter plot\n",
        "y_max=1  #this defines the maximum value that will be plotted on the y-axis of the scatter plot\n",
        "\n",
        "plt.scatter(gran_volume_delivered, gran_y_axis, color = \"yellowgreen\", edgecolors='black')\n",
        "plt.plot(volume_delivered, fit, color= \"black\")\n",
        "plt.title(\"ADD TITLE HERE\")\n",
        "plt.xlabel(\"X-AXIS LABEL\")\n",
        "plt.ylabel('$V_b x 10^{-pH}$')\n",
        "plt.xlim(x_min,x_max)\n",
        "plt.ylim(y_min,y_max)\n",
        "plt.show()\n",
        "print(\"The linear treadline for this titration curve is y={:3.4g}x+{:3.4g}, with an R^2 value of {:3.4g}.\".format(m, b,r_value**2))"
      ],
      "metadata": {
        "id": "d6FDmVXAeV-S"
      },
      "execution_count": null,
      "outputs": []
    }
  ]
}